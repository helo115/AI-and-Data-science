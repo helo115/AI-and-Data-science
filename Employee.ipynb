{
 "cells": [
  {
   "cell_type": "markdown",
   "id": "63983fe1-263a-407b-ae35-948e2f683dc7",
   "metadata": {},
   "source": [
    "Task 4: Employee Salary Protection\n",
    " Create a class Employee with private attributes name, salary.\n",
    " Add methods:\n",
    "o Getter for name.\n",
    "o Setter for salary (must be positive).\n",
    "o Method show_details(). \n"
   ]
  },
  {
   "cell_type": "code",
   "execution_count": 2,
   "id": "73cb156c-19cf-4491-b5e8-7ed76fe596fe",
   "metadata": {},
   "outputs": [],
   "source": [
    "class  Employee():\n",
    "    def __init__(self,name,salary):\n",
    "        self.__name=name\n",
    "        self.__salary =int(salary)\n",
    "    def  name(self):\n",
    "        return self.__name\n",
    "    def salary(self):\n",
    "        m=int(input(\"enter the salary\"))\n",
    "        if m > 0:\n",
    "            self.__salary=m\n",
    "            print (\"successfully updated \")\n",
    "        else:\n",
    "            print (\"salary must be getter than 0\")\n",
    "    def show_detail(self):\n",
    "        print(\"===========Employee==========\")\n",
    "        print (f\"Name: {self.name()}\")\n",
    "        print(f\"salary: {self.__salary}\")\n",
    "        print(\"=============================\")"
   ]
  },
  {
   "cell_type": "code",
   "execution_count": 8,
   "id": "b7f9fb72-bf54-4c5e-a82a-d6ea249497f5",
   "metadata": {},
   "outputs": [],
   "source": [
    "f=Employee(\"uzair\",40000)"
   ]
  },
  {
   "cell_type": "code",
   "execution_count": 9,
   "id": "5204ae80-63ed-4fc8-a7af-79b1f0c9132a",
   "metadata": {},
   "outputs": [
    {
     "data": {
      "text/plain": [
       "'uzair'"
      ]
     },
     "execution_count": 9,
     "metadata": {},
     "output_type": "execute_result"
    }
   ],
   "source": [
    "f.name()"
   ]
  },
  {
   "cell_type": "code",
   "execution_count": 10,
   "id": "ae5fac3f-42e0-4fc8-a01e-4b208ea66498",
   "metadata": {},
   "outputs": [
    {
     "name": "stdout",
     "output_type": "stream",
     "text": [
      "===========Employee==========\n",
      "Name: uzair\n",
      "salary: 40000\n",
      "=============================\n"
     ]
    }
   ],
   "source": [
    "f.show_detail()"
   ]
  },
  {
   "cell_type": "code",
   "execution_count": 11,
   "id": "c326ebfb-a24e-477d-8243-c0483b69629d",
   "metadata": {},
   "outputs": [
    {
     "name": "stdin",
     "output_type": "stream",
     "text": [
      "enter the salary 50000\n"
     ]
    },
    {
     "name": "stdout",
     "output_type": "stream",
     "text": [
      "successfully updated \n"
     ]
    }
   ],
   "source": [
    "f.salary()"
   ]
  },
  {
   "cell_type": "code",
   "execution_count": 12,
   "id": "3a2cbd39-1746-4195-baaa-e4d246cb05b4",
   "metadata": {},
   "outputs": [
    {
     "name": "stdout",
     "output_type": "stream",
     "text": [
      "===========Employee==========\n",
      "Name: uzair\n",
      "salary: 50000\n",
      "=============================\n"
     ]
    }
   ],
   "source": [
    "f.show_detail()"
   ]
  },
  {
   "cell_type": "code",
   "execution_count": null,
   "id": "95f5c6d1-f89c-49a3-be21-a5c892dca17f",
   "metadata": {},
   "outputs": [],
   "source": []
  }
 ],
 "metadata": {
  "kernelspec": {
   "display_name": "Python 3 (ipykernel)",
   "language": "python",
   "name": "python3"
  },
  "language_info": {
   "codemirror_mode": {
    "name": "ipython",
    "version": 3
   },
   "file_extension": ".py",
   "mimetype": "text/x-python",
   "name": "python",
   "nbconvert_exporter": "python",
   "pygments_lexer": "ipython3",
   "version": "3.13.5"
  }
 },
 "nbformat": 4,
 "nbformat_minor": 5
}
