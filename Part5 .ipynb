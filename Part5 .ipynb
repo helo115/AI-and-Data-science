{
 "cells": [
  {
   "cell_type": "markdown",
   "id": "e3a70e2e-8c82-46ad-b8e0-15058224155a",
   "metadata": {},
   "source": [
    "Part 4: Vectorization\n",
    "1. Create two arrays A and B of 5 random integers each. Perform element-wise addition, subtraction,\n",
    "multiplication, and division without using loops.\n",
    "2. Using vectorization, compute the square root, exponential, and sine of all elements in a single array.\n",
    "[Hint: for computing using np.sqrt(), For computing use np.exp(), For Computing sine using np.sin()]\n",
    "3. Given a list of 10 temperatures in Celsius, convert them to Fahrenheit using a single vectorized\n",
    "expression.\n",
    "[Hint: for Celsius to Fahrenheit conversion use formula  °F = (°C × 9/5) + 32]"
   ]
  },
  {
   "cell_type": "code",
   "execution_count": 3,
   "id": "7f8e321b-2624-4a81-b5f1-1e3b0bd9f961",
   "metadata": {},
   "outputs": [],
   "source": [
    "import numpy as np \n"
   ]
  },
  {
   "cell_type": "code",
   "execution_count": 4,
   "id": "efbf71b4-cdd3-41d6-b343-36e7e97c9a0d",
   "metadata": {},
   "outputs": [],
   "source": [
    "A=np.random.randint(1,100,size=5)"
   ]
  },
  {
   "cell_type": "code",
   "execution_count": 5,
   "id": "8b604eb3-dcee-4de5-a7f6-8c7c5b4e6547",
   "metadata": {},
   "outputs": [
    {
     "data": {
      "text/plain": [
       "array([43, 57, 33, 22, 80], dtype=int32)"
      ]
     },
     "execution_count": 5,
     "metadata": {},
     "output_type": "execute_result"
    }
   ],
   "source": [
    "A"
   ]
  },
  {
   "cell_type": "code",
   "execution_count": 20,
   "id": "39587d77-4da5-4827-b873-2641a02055e7",
   "metadata": {},
   "outputs": [],
   "source": [
    "B=np.random.randint(1,70,size=5)"
   ]
  },
  {
   "cell_type": "code",
   "execution_count": 21,
   "id": "1d2d5c4f-0c62-4397-9ac3-2f3561db406a",
   "metadata": {},
   "outputs": [
    {
     "data": {
      "text/plain": [
       "array([48, 18, 60, 25, 16], dtype=int32)"
      ]
     },
     "execution_count": 21,
     "metadata": {},
     "output_type": "execute_result"
    }
   ],
   "source": [
    "B"
   ]
  },
  {
   "cell_type": "code",
   "execution_count": 22,
   "id": "aeae8c6f-d400-42b5-9273-e09c93c5bab7",
   "metadata": {},
   "outputs": [
    {
     "data": {
      "text/plain": [
       "(5,)"
      ]
     },
     "execution_count": 22,
     "metadata": {},
     "output_type": "execute_result"
    }
   ],
   "source": [
    "A.shape"
   ]
  },
  {
   "cell_type": "code",
   "execution_count": 30,
   "id": "ebad53a2-b8d1-4de3-953f-1633c984fd64",
   "metadata": {},
   "outputs": [
    {
     "data": {
      "text/plain": [
       "(5,)"
      ]
     },
     "execution_count": 30,
     "metadata": {},
     "output_type": "execute_result"
    }
   ],
   "source": [
    "np.shape(B)"
   ]
  },
  {
   "cell_type": "code",
   "execution_count": 31,
   "id": "00297c15-0301-4e50-bda9-be41734d1f64",
   "metadata": {},
   "outputs": [],
   "source": [
    "AB=A+B"
   ]
  },
  {
   "cell_type": "code",
   "execution_count": 32,
   "id": "6b0b111e-55b6-474f-bd7b-9d731ea30434",
   "metadata": {},
   "outputs": [],
   "source": [
    "AC=A-B"
   ]
  },
  {
   "cell_type": "code",
   "execution_count": 33,
   "id": "46ec95f1-0188-4f1f-b66c-1c8789305df6",
   "metadata": {},
   "outputs": [],
   "source": [
    "AD=A*B"
   ]
  },
  {
   "cell_type": "code",
   "execution_count": 34,
   "id": "199ff58c-c44f-4dc7-a8cd-f12f0b735b97",
   "metadata": {},
   "outputs": [],
   "source": [
    "AE=A/B"
   ]
  },
  {
   "cell_type": "code",
   "execution_count": 35,
   "id": "6e7428e6-bf72-4267-b622-bfc1454c7820",
   "metadata": {},
   "outputs": [
    {
     "data": {
      "text/plain": [
       "array([91, 75, 93, 47, 96], dtype=int32)"
      ]
     },
     "execution_count": 35,
     "metadata": {},
     "output_type": "execute_result"
    }
   ],
   "source": [
    "AB"
   ]
  },
  {
   "cell_type": "code",
   "execution_count": 36,
   "id": "f98d484d-2a2a-4f40-9739-694caf6dab8e",
   "metadata": {},
   "outputs": [
    {
     "data": {
      "text/plain": [
       "array([ -5,  39, -27,  -3,  64], dtype=int32)"
      ]
     },
     "execution_count": 36,
     "metadata": {},
     "output_type": "execute_result"
    }
   ],
   "source": [
    "AC"
   ]
  },
  {
   "cell_type": "code",
   "execution_count": 37,
   "id": "c19cd1ed-91a5-4043-8a86-3b6b0fc40f18",
   "metadata": {},
   "outputs": [
    {
     "data": {
      "text/plain": [
       "array([2064, 1026, 1980,  550, 1280], dtype=int32)"
      ]
     },
     "execution_count": 37,
     "metadata": {},
     "output_type": "execute_result"
    }
   ],
   "source": [
    "AD"
   ]
  },
  {
   "cell_type": "code",
   "execution_count": 49,
   "id": "3ea9b6c8-4e87-4f92-8f9b-abae80704b02",
   "metadata": {},
   "outputs": [
    {
     "data": {
      "text/plain": [
       "array([0.89583333, 3.16666667, 0.55      , 0.88      , 5.        ])"
      ]
     },
     "execution_count": 49,
     "metadata": {},
     "output_type": "execute_result"
    }
   ],
   "source": [
    "AE"
   ]
  },
  {
   "cell_type": "code",
   "execution_count": 47,
   "id": "8a955c87-3fdb-418b-98bf-cb83cf87c5a5",
   "metadata": {},
   "outputs": [],
   "source": [
    "sqrt=np.sqrt((A,B))"
   ]
  },
  {
   "cell_type": "code",
   "execution_count": 48,
   "id": "c8a06d89-d3ed-4151-8acd-041eff8ae167",
   "metadata": {},
   "outputs": [
    {
     "data": {
      "text/plain": [
       "array([[6.55743852, 7.54983444, 5.74456265, 4.69041576, 8.94427191],\n",
       "       [6.92820323, 4.24264069, 7.74596669, 5.        , 4.        ]])"
      ]
     },
     "execution_count": 48,
     "metadata": {},
     "output_type": "execute_result"
    }
   ],
   "source": [
    "sqrt"
   ]
  },
  {
   "cell_type": "code",
   "execution_count": 44,
   "id": "3f1485a9-b67a-450d-b2bb-2fc105525780",
   "metadata": {},
   "outputs": [],
   "source": [
    "sqrt1=np.sqrt(B)"
   ]
  },
  {
   "cell_type": "code",
   "execution_count": 45,
   "id": "83bdc826-e580-4e29-9584-62656ebe1125",
   "metadata": {},
   "outputs": [
    {
     "data": {
      "text/plain": [
       "array([6.92820323, 4.24264069, 7.74596669, 5.        , 4.        ])"
      ]
     },
     "execution_count": 45,
     "metadata": {},
     "output_type": "execute_result"
    }
   ],
   "source": [
    "sqrt1"
   ]
  },
  {
   "cell_type": "code",
   "execution_count": 51,
   "id": "85a29b63-ebd5-4f56-9c8f-0d7abec519a9",
   "metadata": {},
   "outputs": [],
   "source": [
    "exp=np.exp((A,B))"
   ]
  },
  {
   "cell_type": "code",
   "execution_count": 52,
   "id": "f19f971a-91e0-497f-9b89-a9824209c467",
   "metadata": {},
   "outputs": [
    {
     "data": {
      "text/plain": [
       "array([[4.72783947e+18, 5.68572000e+24, 2.14643580e+14, 3.58491285e+09,\n",
       "        5.54062238e+34],\n",
       "       [7.01673591e+20, 6.56599691e+07, 1.14200739e+26, 7.20048993e+10,\n",
       "        8.88611052e+06]])"
      ]
     },
     "execution_count": 52,
     "metadata": {},
     "output_type": "execute_result"
    }
   ],
   "source": [
    "exp"
   ]
  },
  {
   "cell_type": "code",
   "execution_count": 53,
   "id": "652bf6d3-fe64-424b-abba-58dbb89faee1",
   "metadata": {},
   "outputs": [],
   "source": [
    "sin=np.sin((A,B))"
   ]
  },
  {
   "cell_type": "code",
   "execution_count": 54,
   "id": "78beff7b-f290-4c99-982f-c7bcbe63a741",
   "metadata": {},
   "outputs": [
    {
     "data": {
      "text/plain": [
       "array([[-0.83177474,  0.43616476,  0.99991186, -0.00885131, -0.99388865],\n",
       "       [-0.76825466, -0.75098725, -0.30481062, -0.13235175, -0.28790332]])"
      ]
     },
     "execution_count": 54,
     "metadata": {},
     "output_type": "execute_result"
    }
   ],
   "source": [
    "sin"
   ]
  },
  {
   "cell_type": "code",
   "execution_count": 57,
   "id": "56521d21-2fab-46a2-b99f-cac9ff1f7fbf",
   "metadata": {},
   "outputs": [],
   "source": [
    "C=np.array([35,23,33,45,29,40,39,42,55,19])"
   ]
  },
  {
   "cell_type": "code",
   "execution_count": 73,
   "id": "b0021ebc-6707-488b-bce5-99f09f72f5ff",
   "metadata": {},
   "outputs": [],
   "source": [
    "F=(C*9/5)+32"
   ]
  },
  {
   "cell_type": "code",
   "execution_count": 74,
   "id": "2b76e65c-efa5-44d8-af29-d2234c0561d6",
   "metadata": {},
   "outputs": [
    {
     "data": {
      "text/plain": [
       "array([ 95. ,  73.4,  91.4, 113. ,  84.2, 104. , 102.2, 107.6, 131. ,\n",
       "        66.2])"
      ]
     },
     "execution_count": 74,
     "metadata": {},
     "output_type": "execute_result"
    }
   ],
   "source": [
    "F"
   ]
  },
  {
   "cell_type": "code",
   "execution_count": null,
   "id": "7697f372-f079-4c07-8b78-9a4f3a25aee6",
   "metadata": {},
   "outputs": [],
   "source": []
  },
  {
   "cell_type": "code",
   "execution_count": null,
   "id": "0c6150e4-9b1e-418f-bf41-105e9bc039dd",
   "metadata": {},
   "outputs": [],
   "source": []
  },
  {
   "cell_type": "code",
   "execution_count": null,
   "id": "5525a3ad-8514-4973-94ca-47debdd60e51",
   "metadata": {},
   "outputs": [],
   "source": []
  },
  {
   "cell_type": "code",
   "execution_count": null,
   "id": "bc236ed3-233f-4c1a-8506-508cab5bf9d9",
   "metadata": {},
   "outputs": [],
   "source": []
  }
 ],
 "metadata": {
  "kernelspec": {
   "display_name": "Python 3 (ipykernel)",
   "language": "python",
   "name": "python3"
  },
  "language_info": {
   "codemirror_mode": {
    "name": "ipython",
    "version": 3
   },
   "file_extension": ".py",
   "mimetype": "text/x-python",
   "name": "python",
   "nbconvert_exporter": "python",
   "pygments_lexer": "ipython3",
   "version": "3.13.5"
  }
 },
 "nbformat": 4,
 "nbformat_minor": 5
}
