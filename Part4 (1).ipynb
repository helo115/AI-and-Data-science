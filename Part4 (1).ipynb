{
 "cells": [
  {
   "cell_type": "markdown",
   "id": "16ef1d05-c382-41a5-8627-3e81c065379b",
   "metadata": {},
   "source": [
    "Part 4: Indexing and Slicing\n",
    "Given the array:\n",
    "arr = np.array([[10, 20, 30, 40],\n",
    " [50, 60, 70, 80],\n",
    " [90, 100, 110, 120]\n",
    "])\n",
    "1. Extract the second row.\n",
    "2. Extract the first two rows and the second two columns.\n",
    "3. Extract the last column using slicing.\n",
    "4. Replace the middle row with [1, 2, 3, 4]."
   ]
  },
  {
   "cell_type": "code",
   "execution_count": 1,
   "id": "8c77ef14-d84f-4a8b-a73c-9bf422218005",
   "metadata": {},
   "outputs": [],
   "source": [
    "import numpy as py"
   ]
  },
  {
   "cell_type": "code",
   "execution_count": 6,
   "id": "b6c6192a-0171-4b1f-916f-3f134d456b05",
   "metadata": {},
   "outputs": [],
   "source": [
    "arr=py.array([[10,20,30,40],\n",
    "             [50,60,70,80],\n",
    "            [90,100,110,120]\n",
    "])"
   ]
  },
  {
   "cell_type": "code",
   "execution_count": 8,
   "id": "fc7c7a38-a39c-4c85-acd6-54909129c8c1",
   "metadata": {},
   "outputs": [
    {
     "data": {
      "text/plain": [
       "array([[ 10,  20,  30,  40],\n",
       "       [ 50,  60,  70,  80],\n",
       "       [ 90, 100, 110, 120]])"
      ]
     },
     "execution_count": 8,
     "metadata": {},
     "output_type": "execute_result"
    }
   ],
   "source": [
    "arr"
   ]
  },
  {
   "cell_type": "code",
   "execution_count": 11,
   "id": "0f3020a7-6d29-41f7-8066-ecbd9d276c5a",
   "metadata": {},
   "outputs": [
    {
     "data": {
      "text/plain": [
       "array([50, 60, 70, 80])"
      ]
     },
     "execution_count": 11,
     "metadata": {},
     "output_type": "execute_result"
    }
   ],
   "source": [
    "arr[1]"
   ]
  },
  {
   "cell_type": "raw",
   "id": "2410ecd5-1b25-4588-81e1-4625a5c8523d",
   "metadata": {},
   "source": []
  },
  {
   "cell_type": "code",
   "execution_count": 28,
   "id": "8dd0bc45-2719-4767-924f-de5c1972e88c",
   "metadata": {},
   "outputs": [
    {
     "data": {
      "text/plain": [
       "array([[10, 20, 30, 40],\n",
       "       [50, 60, 70, 80]])"
      ]
     },
     "execution_count": 28,
     "metadata": {},
     "output_type": "execute_result"
    }
   ],
   "source": [
    "arr[1,:2]\n",
    "arr[0:2]"
   ]
  },
  {
   "cell_type": "code",
   "execution_count": 43,
   "id": "5c8bf748-2800-4037-98c5-7f321a81990e",
   "metadata": {},
   "outputs": [
    {
     "data": {
      "text/plain": [
       "array([[ 40],\n",
       "       [ 80],\n",
       "       [120]])"
      ]
     },
     "execution_count": 43,
     "metadata": {},
     "output_type": "execute_result"
    }
   ],
   "source": [
    "arr[:3,3:]"
   ]
  },
  {
   "cell_type": "code",
   "execution_count": 44,
   "id": "99fabe9e-a114-4d46-ae51-8432b4bc4761",
   "metadata": {},
   "outputs": [
    {
     "data": {
      "text/plain": [
       "array([50, 60, 70, 80])"
      ]
     },
     "execution_count": 44,
     "metadata": {},
     "output_type": "execute_result"
    }
   ],
   "source": [
    "arr[1]"
   ]
  },
  {
   "cell_type": "code",
   "execution_count": null,
   "id": "ec2053d5-ab64-4292-834f-668f4e4c06e4",
   "metadata": {},
   "outputs": [],
   "source": []
  }
 ],
 "metadata": {
  "kernelspec": {
   "display_name": "Python 3 (ipykernel)",
   "language": "python",
   "name": "python3"
  },
  "language_info": {
   "codemirror_mode": {
    "name": "ipython",
    "version": 3
   },
   "file_extension": ".py",
   "mimetype": "text/x-python",
   "name": "python",
   "nbconvert_exporter": "python",
   "pygments_lexer": "ipython3",
   "version": "3.13.5"
  }
 },
 "nbformat": 4,
 "nbformat_minor": 5
}
