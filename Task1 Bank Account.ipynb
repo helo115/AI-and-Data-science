{
 "cells": [
  {
   "cell_type": "markdown",
   "id": "b4ea02a3-8d1b-4f4a-816f-d789d675f6d4",
   "metadata": {},
   "source": [
    "Part 1: Encapsulation Practice Tasks:\n",
    "Task 1: Bank Account\n",
    " Create a class BankAccount with private attributes account_number and balance.\n",
    " Add methods:\n",
    "o deposit(amount)\n",
    "o withdraw(amount) (should not allow balance < 0)\n",
    "o get_balance()"
   ]
  },
  {
   "cell_type": "code",
   "execution_count": 77,
   "id": "ab69133f-1f2c-4346-98a2-04122538a62f",
   "metadata": {},
   "outputs": [],
   "source": [
    "class BankAccount():\n",
    "    # class Attribute\n",
    "    Bank_Name=\"Meezan\"\n",
    "    Branch=\"Head Office\"\n",
    "\n",
    "    def __init__(self,name,account_number,balance,Account_type,Account_password):\n",
    "        self.name=name\n",
    "        self.Account_type=Account_type\n",
    "        self.__account_number=account_number\n",
    "        self.__balance=int(balance)\n",
    "        self.Account_password=Account_password\n",
    "\n",
    "    def display(self):\n",
    "       \n",
    "        if self.Password_Check(self.Account_password):\n",
    "            print(\"==============Account Details===============\")\n",
    "            print(f\"Bank Name: {self.Bank_Name}\")\n",
    "            print(f\"Branch Name: {self.Branch}\")\n",
    "            print(f\"Customer Name: {self.name}\")\n",
    "            print(f\"Account Number {self.__account_number}\")\n",
    "            print(f\"Account Balance: {self.get_balance()}\")\n",
    "            print(f\"Account Type: {self.Account_type}\")\n",
    "            print(\"============================================\")\n",
    "        else:\n",
    "            print(\"Incorrect Password\")\n",
    "    def get_balance(self):\n",
    "        return self.__balance\n",
    "            \n",
    "    def deposit(self):\n",
    "        n=int(input(\"Enter the Amount You want to Deposit\"))\n",
    "        if n>0:\n",
    "            self.__balance=self.__balance+n\n",
    "            print(\"Successfully Deposit\")\n",
    "            return n\n",
    "\n",
    "        else:\n",
    "            print(\"The Deposit Amount will be greather than 0\")\n",
    "    \n",
    "\n",
    "    def Withdrawn(self,n):\n",
    "        if n>0:\n",
    "            if self.get_balance()>0:\n",
    "                if self.get_balance()>=n:\n",
    "                    self.__balance=self.__balance-n\n",
    "                    print(\"Suceesfully Withdrawn the amount\")\n",
    "                    return n\n",
    "                else:\n",
    "                    return f\"Your Account have insuffiecient balance to withdrawn Rs {n}\"\n",
    "            else:\n",
    "               return f\"Your Account balance is zero\"\n",
    "        else:\n",
    "            print(\"The Withdrawn Amount should be greather than 0\")\n",
    "                \n",
    "\n",
    "\n",
    "\n",
    "\n",
    "\n",
    "    @staticmethod\n",
    "    def Password_Check(m):\n",
    "        n=input(\"Enter the password to View Details\")\n",
    "        n=str(n)\n",
    "        if n==m:\n",
    "            return True\n",
    "        else:\n",
    "            return False\n",
    "    "
   ]
  },
  {
   "cell_type": "code",
   "execution_count": 78,
   "id": "2728d9cf-ed82-4e53-9a98-f70858ac0499",
   "metadata": {},
   "outputs": [],
   "source": [
    "b=BankAccount(\"Ali\",\"09864679268\",80000,\"Saving\",\"87g53213\")"
   ]
  },
  {
   "cell_type": "code",
   "execution_count": 79,
   "id": "17c1aa9b-0a62-4f92-a309-d0ba7e0641fd",
   "metadata": {},
   "outputs": [
    {
     "data": {
      "text/plain": [
       "'Ali'"
      ]
     },
     "execution_count": 79,
     "metadata": {},
     "output_type": "execute_result"
    }
   ],
   "source": [
    "b.name"
   ]
  },
  {
   "cell_type": "code",
   "execution_count": 52,
   "id": "e4e4e2cb-6598-4f9e-98d1-f0d5770384f9",
   "metadata": {},
   "outputs": [
    {
     "name": "stdin",
     "output_type": "stream",
     "text": [
      "Enter the password to View Details 87g53213\n"
     ]
    },
    {
     "name": "stdout",
     "output_type": "stream",
     "text": [
      "==============Account Details===============\n",
      "Bank Name: Meezan\n",
      "Branch Name: Head Office\n",
      "Customer Name: Ali\n",
      "Account Number 09864679268\n",
      "Account Balance: 80000\n",
      "Account Type: Saving\n",
      "============================================\n"
     ]
    }
   ],
   "source": [
    "b.display()"
   ]
  },
  {
   "cell_type": "code",
   "execution_count": 57,
   "id": "8543df04-81ea-41bd-bfff-1baf505ce560",
   "metadata": {},
   "outputs": [
    {
     "name": "stdin",
     "output_type": "stream",
     "text": [
      "Enter the Amount You want to Deposit 0\n"
     ]
    },
    {
     "name": "stdout",
     "output_type": "stream",
     "text": [
      "The Deposit Amount will be greather than 0\n"
     ]
    }
   ],
   "source": [
    "b.deposit()"
   ]
  },
  {
   "cell_type": "code",
   "execution_count": 56,
   "id": "fc271d86-96c5-4dd7-8b36-a28fe9f8bf29",
   "metadata": {},
   "outputs": [
    {
     "name": "stdin",
     "output_type": "stream",
     "text": [
      "Enter the password to View Details 87g53213\n"
     ]
    },
    {
     "name": "stdout",
     "output_type": "stream",
     "text": [
      "==============Account Details===============\n",
      "Bank Name: Meezan\n",
      "Branch Name: Head Office\n",
      "Customer Name: Ali\n",
      "Account Number 09864679268\n",
      "Account Balance: 87500\n",
      "Account Type: Saving\n",
      "============================================\n"
     ]
    }
   ],
   "source": [
    "b.display()"
   ]
  },
  {
   "cell_type": "code",
   "execution_count": 81,
   "id": "f06089ab-2680-401e-9c89-f1ae58c92823",
   "metadata": {},
   "outputs": [
    {
     "name": "stdout",
     "output_type": "stream",
     "text": [
      "Suceesfully Withdrawn the amount\n"
     ]
    },
    {
     "data": {
      "text/plain": [
       "80000"
      ]
     },
     "execution_count": 81,
     "metadata": {},
     "output_type": "execute_result"
    }
   ],
   "source": [
    "b.Withdrawn(80000)"
   ]
  },
  {
   "cell_type": "code",
   "execution_count": 82,
   "id": "2ba18d75-f805-4101-bafc-95fc91abc803",
   "metadata": {},
   "outputs": [
    {
     "name": "stdin",
     "output_type": "stream",
     "text": [
      "Enter the password to View Details 87g53213\n"
     ]
    },
    {
     "name": "stdout",
     "output_type": "stream",
     "text": [
      "==============Account Details===============\n",
      "Bank Name: Meezan\n",
      "Branch Name: Head Office\n",
      "Customer Name: Ali\n",
      "Account Number 09864679268\n",
      "Account Balance: 0\n",
      "Account Type: Saving\n",
      "============================================\n"
     ]
    }
   ],
   "source": [
    "b.display()"
   ]
  },
  {
   "cell_type": "code",
   "execution_count": 84,
   "id": "741571d3-a106-438f-a58e-3160f947245c",
   "metadata": {},
   "outputs": [
    {
     "name": "stdin",
     "output_type": "stream",
     "text": [
      "Enter the Amount You want to Deposit 90000\n"
     ]
    },
    {
     "name": "stdout",
     "output_type": "stream",
     "text": [
      "Successfully Deposit\n"
     ]
    },
    {
     "data": {
      "text/plain": [
       "90000"
      ]
     },
     "execution_count": 84,
     "metadata": {},
     "output_type": "execute_result"
    }
   ],
   "source": [
    "b.deposit()"
   ]
  },
  {
   "cell_type": "code",
   "execution_count": 74,
   "id": "8c183997-6655-4b41-a8b2-6b6b4aff588f",
   "metadata": {},
   "outputs": [
    {
     "name": "stdin",
     "output_type": "stream",
     "text": [
      "Enter the password to View Details 87g53213\n"
     ]
    },
    {
     "name": "stdout",
     "output_type": "stream",
     "text": [
      "==============Account Details===============\n",
      "Bank Name: Meezan\n",
      "Branch Name: Head Office\n",
      "Customer Name: Ali\n",
      "Account Number 09864679268\n",
      "Account Balance: 98500\n",
      "Account Type: Saving\n",
      "============================================\n"
     ]
    }
   ],
   "source": [
    "b.display()"
   ]
  },
  {
   "cell_type": "code",
   "execution_count": 85,
   "id": "4bac9af0-1b85-4cae-8635-92feaa3adb40",
   "metadata": {},
   "outputs": [
    {
     "name": "stdout",
     "output_type": "stream",
     "text": [
      "Suceesfully Withdrawn the amount\n"
     ]
    },
    {
     "data": {
      "text/plain": [
       "90000"
      ]
     },
     "execution_count": 85,
     "metadata": {},
     "output_type": "execute_result"
    }
   ],
   "source": [
    "b.Withdrawn(90000)"
   ]
  },
  {
   "cell_type": "code",
   "execution_count": 86,
   "id": "24042c42-a78c-452b-b55e-c3159a2d0691",
   "metadata": {},
   "outputs": [
    {
     "name": "stdin",
     "output_type": "stream",
     "text": [
      "Enter the password to View Details 87g53213\n"
     ]
    },
    {
     "name": "stdout",
     "output_type": "stream",
     "text": [
      "==============Account Details===============\n",
      "Bank Name: Meezan\n",
      "Branch Name: Head Office\n",
      "Customer Name: Ali\n",
      "Account Number 09864679268\n",
      "Account Balance: 0\n",
      "Account Type: Saving\n",
      "============================================\n"
     ]
    }
   ],
   "source": [
    "b.display()"
   ]
  },
  {
   "cell_type": "code",
   "execution_count": null,
   "id": "94c4061f-b9e5-40a9-89ec-61af265a6e54",
   "metadata": {},
   "outputs": [],
   "source": []
  }
 ],
 "metadata": {
  "kernelspec": {
   "display_name": "Python 3 (ipykernel)",
   "language": "python",
   "name": "python3"
  },
  "language_info": {
   "codemirror_mode": {
    "name": "ipython",
    "version": 3
   },
   "file_extension": ".py",
   "mimetype": "text/x-python",
   "name": "python",
   "nbconvert_exporter": "python",
   "pygments_lexer": "ipython3",
   "version": "3.13.5"
  }
 },
 "nbformat": 4,
 "nbformat_minor": 5
}
