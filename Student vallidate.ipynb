{
 "cells": [
  {
   "cell_type": "markdown",
   "id": "9ffe39de-d57f-4745-9285-39cdc8898f5d",
   "metadata": {},
   "source": [
    "Task 2: Student Marks Validation\n",
    " Create a class Student with private attributes name, roll_no, marks.\n",
    " Add methods:\n",
    "o Setter method for marks (only accept values between 0–100).\n",
    "o Getters methods for all attributes."
   ]
  },
  {
   "cell_type": "code",
   "execution_count": 23,
   "id": "e0db4219-4e85-4a62-80de-a64ce801f4d5",
   "metadata": {},
   "outputs": [],
   "source": [
    "class Student():\n",
    "    # constructor\n",
    "    def __init__(self,name,roll_no,marks):\n",
    "        self.__name=name\n",
    "        self.__roll_no=roll_no\n",
    "        self.__marks=int(marks)\n",
    "    def display(self):\n",
    "        print(\"================Student Details=================\")\n",
    "        print(f\"Name Of Student is: {self.get_name()}\")\n",
    "        print(f\"Rollno of Student is: {self.get_roll_no()} \")\n",
    "        print(f\"Marks of Student is: {self.get_marks()}\")\n",
    "    # Getter Method\n",
    "    def get_name(self):\n",
    "        return self.__name\n",
    "    def get_roll_no(self):\n",
    "        return self.__roll_no\n",
    "    def get_marks(self):\n",
    "        return self.__marks\n",
    "\n",
    "    # Setter Method\n",
    "    def Change_marks(self,new_marks):\n",
    "        if  isinstance(new_marks,(int,float)) and 0<new_marks<100:\n",
    "            self.__marks=new_marks\n",
    "        else:\n",
    "            print(\"The Marks is not in int and float or Marks is between 0 to 100\")"
   ]
  },
  {
   "cell_type": "code",
   "execution_count": 24,
   "id": "2f50b660-a254-4974-9b4c-21944b3480b4",
   "metadata": {},
   "outputs": [],
   "source": [
    "c=Student(\"Ali\",\"h764526\",\"89\")"
   ]
  },
  {
   "cell_type": "code",
   "execution_count": 25,
   "id": "27d08cfd-d24b-472b-924a-974fa0143b12",
   "metadata": {},
   "outputs": [
    {
     "data": {
      "text/plain": [
       "'Ali'"
      ]
     },
     "execution_count": 25,
     "metadata": {},
     "output_type": "execute_result"
    }
   ],
   "source": [
    "c.get_name()"
   ]
  },
  {
   "cell_type": "code",
   "execution_count": 26,
   "id": "2770280d-f526-4a22-972a-e302ac0bcbb5",
   "metadata": {},
   "outputs": [
    {
     "data": {
      "text/plain": [
       "'h764526'"
      ]
     },
     "execution_count": 26,
     "metadata": {},
     "output_type": "execute_result"
    }
   ],
   "source": [
    "c.get_roll_no()"
   ]
  },
  {
   "cell_type": "code",
   "execution_count": 27,
   "id": "97130d10-d312-4872-b5f8-7c0b38076030",
   "metadata": {},
   "outputs": [
    {
     "data": {
      "text/plain": [
       "89"
      ]
     },
     "execution_count": 27,
     "metadata": {},
     "output_type": "execute_result"
    }
   ],
   "source": [
    "c.get_marks()"
   ]
  },
  {
   "cell_type": "code",
   "execution_count": 28,
   "id": "39794f93-99da-48ed-8ca0-cf0e63c3d69d",
   "metadata": {},
   "outputs": [],
   "source": [
    "c.Change_marks(97)"
   ]
  },
  {
   "cell_type": "code",
   "execution_count": 29,
   "id": "2c28ff2f-e82f-45d8-9fd3-8da262f0bcb2",
   "metadata": {},
   "outputs": [
    {
     "name": "stdout",
     "output_type": "stream",
     "text": [
      "================Student Details=================\n",
      "Name Of Student is: Ali\n",
      "Rollno of Student is: h764526 \n",
      "Marks of Student is: 97\n"
     ]
    }
   ],
   "source": [
    "c.display()"
   ]
  },
  {
   "cell_type": "code",
   "execution_count": null,
   "id": "fef8943b-a026-4136-a19e-92caa3013312",
   "metadata": {},
   "outputs": [],
   "source": []
  }
 ],
 "metadata": {
  "kernelspec": {
   "display_name": "Python 3 (ipykernel)",
   "language": "python",
   "name": "python3"
  },
  "language_info": {
   "codemirror_mode": {
    "name": "ipython",
    "version": 3
   },
   "file_extension": ".py",
   "mimetype": "text/x-python",
   "name": "python",
   "nbconvert_exporter": "python",
   "pygments_lexer": "ipython3",
   "version": "3.13.5"
  }
 },
 "nbformat": 4,
 "nbformat_minor": 5
}
