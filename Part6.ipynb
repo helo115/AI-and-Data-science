{
 "cells": [
  {
   "cell_type": "markdown",
   "id": "956704a6-53d2-40da-b14c-80dfa19cfb92",
   "metadata": {},
   "source": [
    "Part 4: Broadcasting\n",
    "1. Create a 3×3 matrix – named as A and:\n",
    " - Add 10 to it (scalar broadcasting).\n",
    " - Add a row vector [1, 2, 3] to it (row broadcasting).\n",
    " - Add a column vector [[1], [2], [3]] to it (column broadcasting).\n",
    "2. Predict the shape of each result before executing the code. "
   ]
  },
  {
   "cell_type": "code",
   "execution_count": 6,
   "id": "cc5679e9-2c80-4b4c-8d9b-7100a09445ce",
   "metadata": {},
   "outputs": [],
   "source": [
    "import numpy as np"
   ]
  },
  {
   "cell_type": "code",
   "execution_count": 23,
   "id": "44bc93d2-f5e7-41bf-93e2-b03308ebe461",
   "metadata": {},
   "outputs": [],
   "source": [
    "A=np.array([\n",
    "\n",
    "      [1,4,3],\n",
    "      [2,3,4],\n",
    "      [4,5,6]\n",
    "\n",
    "\n",
    "    \n",
    "])"
   ]
  },
  {
   "cell_type": "code",
   "execution_count": 24,
   "id": "ce0f1425-5269-45f3-9dd1-626b2b67a25c",
   "metadata": {},
   "outputs": [
    {
     "data": {
      "text/plain": [
       "array([[1, 4, 3],\n",
       "       [2, 3, 4],\n",
       "       [4, 5, 6]])"
      ]
     },
     "execution_count": 24,
     "metadata": {},
     "output_type": "execute_result"
    }
   ],
   "source": [
    " A"
   ]
  },
  {
   "cell_type": "code",
   "execution_count": 30,
   "id": "8c9dc85d-d96e-4659-a780-456185e0a976",
   "metadata": {},
   "outputs": [
    {
     "data": {
      "text/plain": [
       "(3, 3)"
      ]
     },
     "execution_count": 30,
     "metadata": {},
     "output_type": "execute_result"
    }
   ],
   "source": [
    " A.shape"
   ]
  },
  {
   "cell_type": "code",
   "execution_count": 32,
   "id": "b9689500-5b59-41bf-9c29-0b1e197819eb",
   "metadata": {},
   "outputs": [
    {
     "data": {
      "text/plain": [
       "()"
      ]
     },
     "execution_count": 32,
     "metadata": {},
     "output_type": "execute_result"
    }
   ],
   "source": [
    "np.shape(10)"
   ]
  },
  {
   "cell_type": "code",
   "execution_count": 33,
   "id": "00a823eb-7df3-4e46-8170-a2998b9ddeba",
   "metadata": {},
   "outputs": [],
   "source": [
    "A=A+10"
   ]
  },
  {
   "cell_type": "code",
   "execution_count": 34,
   "id": "3d622210-3ecf-4760-a6d6-ccbd935b3f6d",
   "metadata": {},
   "outputs": [
    {
     "data": {
      "text/plain": [
       "array([[21, 24, 23],\n",
       "       [22, 23, 24],\n",
       "       [24, 25, 26]])"
      ]
     },
     "execution_count": 34,
     "metadata": {},
     "output_type": "execute_result"
    }
   ],
   "source": [
    "A"
   ]
  },
  {
   "cell_type": "code",
   "execution_count": 39,
   "id": "75b93bbe-75d4-4071-96e5-dc891abbbf12",
   "metadata": {},
   "outputs": [
    {
     "data": {
      "text/plain": [
       "(3,)"
      ]
     },
     "execution_count": 39,
     "metadata": {},
     "output_type": "execute_result"
    }
   ],
   "source": [
    "B.shape"
   ]
  },
  {
   "cell_type": "code",
   "execution_count": 35,
   "id": "83b3d423-0cdd-4594-b0f6-8dcf585f33ec",
   "metadata": {},
   "outputs": [],
   "source": [
    "B=np.array([1,2,3])"
   ]
  },
  {
   "cell_type": "code",
   "execution_count": 36,
   "id": "deec3086-16bc-474f-97eb-bb11320cc5d3",
   "metadata": {},
   "outputs": [
    {
     "data": {
      "text/plain": [
       "array([[22, 26, 26],\n",
       "       [23, 25, 27],\n",
       "       [25, 27, 29]])"
      ]
     },
     "execution_count": 36,
     "metadata": {},
     "output_type": "execute_result"
    }
   ],
   "source": [
    "A+B"
   ]
  },
  {
   "cell_type": "code",
   "execution_count": 37,
   "id": "be83b126-d851-42b4-b078-e7af7da6c3a1",
   "metadata": {},
   "outputs": [],
   "source": [
    "c=np.array([\n",
    "[1],\n",
    "[2],\n",
    "[3] \n",
    "    \n",
    "])"
   ]
  },
  {
   "cell_type": "code",
   "execution_count": 40,
   "id": "c7508d80-f057-43c7-8121-e97b0ae21074",
   "metadata": {},
   "outputs": [
    {
     "data": {
      "text/plain": [
       "(3, 3)"
      ]
     },
     "execution_count": 40,
     "metadata": {},
     "output_type": "execute_result"
    }
   ],
   "source": [
    "A.shape"
   ]
  },
  {
   "cell_type": "code",
   "execution_count": 41,
   "id": "80564a96-ea3d-4d58-9bbe-03fd027cb52b",
   "metadata": {},
   "outputs": [
    {
     "data": {
      "text/plain": [
       "(3, 1)"
      ]
     },
     "execution_count": 41,
     "metadata": {},
     "output_type": "execute_result"
    }
   ],
   "source": [
    "c.shape"
   ]
  },
  {
   "cell_type": "code",
   "execution_count": 42,
   "id": "ecbb554a-0438-4bf8-a24a-7bbaa9fef907",
   "metadata": {},
   "outputs": [
    {
     "data": {
      "text/plain": [
       "array([[22, 25, 24],\n",
       "       [24, 25, 26],\n",
       "       [27, 28, 29]])"
      ]
     },
     "execution_count": 42,
     "metadata": {},
     "output_type": "execute_result"
    }
   ],
   "source": [
    "A+c"
   ]
  },
  {
   "cell_type": "code",
   "execution_count": null,
   "id": "2b26fb53-0bd2-426e-8904-7fb22b68f994",
   "metadata": {},
   "outputs": [],
   "source": []
  }
 ],
 "metadata": {
  "kernelspec": {
   "display_name": "Python 3 (ipykernel)",
   "language": "python",
   "name": "python3"
  },
  "language_info": {
   "codemirror_mode": {
    "name": "ipython",
    "version": 3
   },
   "file_extension": ".py",
   "mimetype": "text/x-python",
   "name": "python",
   "nbconvert_exporter": "python",
   "pygments_lexer": "ipython3",
   "version": "3.13.5"
  }
 },
 "nbformat": 4,
 "nbformat_minor": 5
}
