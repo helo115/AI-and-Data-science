{
 "cells": [
  {
   "cell_type": "markdown",
   "id": "de5dfb53-e705-4648-b22e-49ef197908b7",
   "metadata": {},
   "source": [
    "Task 3: Password Manager\n",
    " Create a class PasswordManager with public attributes username and private attribute\n",
    "password.\n",
    " Add methods:\n",
    "o set_password(old, new) → update only if old matches.\n",
    "o check_username(name)  for checking the input user name. (Private method)\n",
    "o check_password(input) → return True/False. (Private Method)"
   ]
  },
  {
   "cell_type": "code",
   "execution_count": 8,
   "id": "ba29fbf8-d265-476b-bec3-2aea03ccd986",
   "metadata": {},
   "outputs": [],
   "source": [
    "class PasswordManager():\n",
    "    # Constructor\n",
    "    def __init__(self,username,password):\n",
    "        self.__username=username\n",
    "        self.__password=str(password)\n",
    "        \n",
    "    def display(self):\n",
    "        print(\"==============================\")\n",
    "        print(f\"Name: {self.__username}\")\n",
    "        print(f\"Password: {self.__password}\")\n",
    "        print(\"==============================\")\n",
    "    def set_password(self,old,new):\n",
    "        if self.__check_password(old):\n",
    "            self.__password==new\n",
    "            print(\"Successfully updated\")\n",
    "        else:\n",
    "            print(\"Your Old Password Is not matched\")\n",
    "    def set_username(self,old,new):\n",
    "        if self.__check_username(old):\n",
    "            self.__password=new\n",
    "            print(\"Sucessfully Updated\")\n",
    "        else:\n",
    "            print(\"old username not matched\")\n",
    "    # Private\n",
    "    def __check_password(self,p):\n",
    "        if self.__password==str(p):\n",
    "            return True\n",
    "        else:\n",
    "            return False\n",
    "    def __check_username(self,name):\n",
    "        if self.__username==name:\n",
    "            return True\n",
    "        else:\n",
    "            return False\n",
    "        "
   ]
  },
  {
   "cell_type": "code",
   "execution_count": 9,
   "id": "6ed2acba-9da8-4cd0-8bdd-e6e0120011dd",
   "metadata": {},
   "outputs": [],
   "source": [
    "c=PasswordManager(\"Ali\",\"hj9876899\")"
   ]
  },
  {
   "cell_type": "code",
   "execution_count": 14,
   "id": "9e475faf-c9d9-4d9c-b875-5a82b2a33043",
   "metadata": {},
   "outputs": [
    {
     "name": "stdout",
     "output_type": "stream",
     "text": [
      "Successfully updated\n"
     ]
    }
   ],
   "source": [
    "c.set_password(\"hj9876899\",\"jkj\")"
   ]
  },
  {
   "cell_type": "code",
   "execution_count": 15,
   "id": "ce517092-f3c2-4960-8e30-abd45ddc1e70",
   "metadata": {},
   "outputs": [
    {
     "name": "stdout",
     "output_type": "stream",
     "text": [
      "==============================\n",
      "Name: Ali\n",
      "Password: hj9876899\n",
      "==============================\n"
     ]
    }
   ],
   "source": [
    "c.display()"
   ]
  },
  {
   "cell_type": "code",
   "execution_count": null,
   "id": "caf10641-dd79-4a73-be91-a50c6c7d6226",
   "metadata": {},
   "outputs": [],
   "source": []
  },
  {
   "cell_type": "code",
   "execution_count": null,
   "id": "7a5c4cc8-cdec-434a-b7fe-e5b968186c22",
   "metadata": {},
   "outputs": [],
   "source": []
  }
 ],
 "metadata": {
  "kernelspec": {
   "display_name": "Python 3 (ipykernel)",
   "language": "python",
   "name": "python3"
  },
  "language_info": {
   "codemirror_mode": {
    "name": "ipython",
    "version": 3
   },
   "file_extension": ".py",
   "mimetype": "text/x-python",
   "name": "python",
   "nbconvert_exporter": "python",
   "pygments_lexer": "ipython3",
   "version": "3.13.5"
  }
 },
 "nbformat": 4,
 "nbformat_minor": 5
}
