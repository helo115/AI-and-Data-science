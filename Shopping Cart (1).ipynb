{
 "cells": [
  {
   "cell_type": "markdown",
   "id": "f8dd36c9-b9bb-48d6-8dbb-75c4be88ce92",
   "metadata": {},
   "source": [
    "Task 5: Shopping Cart\n",
    " Class ShoppingCart with private list items.\n",
    " Add methods:\n",
    "o add_item(item)\n",
    "o remove_item(item)\n",
    "o view_cart() → return items of list.\n",
    " Ensure no duplicate items allowed. \n"
   ]
  },
  {
   "cell_type": "code",
   "execution_count": 83,
   "id": "e67d156e-c54e-4ff8-aae3-16f333746b85",
   "metadata": {},
   "outputs": [],
   "source": [
    "class ShoppingCart():\n",
    "    def __init__(self,item1,item2,item3,item4,item5):\n",
    "        item=None\n",
    "        self.__item1=item1.capitalize()\n",
    "        if self.__item1!=item2.capitalize():\n",
    "            self.__item2=item2.capitalize()\n",
    "        else:\n",
    "            print(\"The Item is already added Enter new item To proceseed Item\")\n",
    "        if self.__item1 !=item3.capitalize() and self.__item2 !=item3.capitalize():\n",
    "            self.__item3=item3.capitalize()\n",
    "        else:\n",
    "            print(\"The Item is already added Enter new item To proceseed Item\")\n",
    "        if self.__item1 !=item4.capitalize() and self.__item2 !=item4.capitalize() and self.__item3 !=item4.capitalize():\n",
    "            self.__item4=item4.capitalize()\n",
    "        else:\n",
    "            print(\"The Item is already added Enter new item To proceseed Item\")\n",
    "        if self.__item1 !=item5.capitalize() and self.__item2 !=item5.capitalize() and self.__item3 !=item5.capitalize() and self.__item4 !=item5.capitalize():\n",
    "            self.__item5=item5.capitalize()\n",
    "        else:\n",
    "            print(\"The Item is already added Enter new item  To proceseed Item\")\n",
    "        self.__item=item\n",
    "    def add_item(self,item):\n",
    "        if  self.__item1 !=item.capitalize() and self.__item2 !=item.capitalize() and self.__item3 !=item.capitalize() and self.__item4 !=item.capitalize() and self.__item5 !=item.capitalize():\n",
    "            self.__item=item.capitalize()\n",
    "            print(\"Sucessfuly Added\")\n",
    "            return item\n",
    "        else:\n",
    "            print(\"The item is already added Enter new item to processed\")\n",
    "            return None\n",
    "    def remove_item(self,item):\n",
    "        if self.__item1==item.capitalize():\n",
    "            del self.__item1\n",
    "            print(\"Sucessfuly removed\")\n",
    "        elif self.__item2==item.capitalize():\n",
    "            del self.__item2\n",
    "            print(\"Sucessfuly removed\")\n",
    "        elif self.__item3==item.capitalize():\n",
    "            del self.__item3\n",
    "            print(\"Sucessfuly removed\")\n",
    "        elif self.__item4==item.capitalize():\n",
    "            del self.__item4\n",
    "            print(\"Sucessfuly removed\")\n",
    "        elif self.__item5==item.capitalize():\n",
    "            del self.__item5\n",
    "            print(\"Sucessfuly removed\")\n",
    "        elif self.__item==item.capitalize():\n",
    "            del self.__item\n",
    "            print(\"Sucessfuly removed\")\n",
    "        else:\n",
    "            print(\"No item is matched in your cart\")\n",
    "    def view_cart(self):\n",
    "        print(\"============== Cart Details==============\")\n",
    "        if self.__item1:\n",
    "            print(f\"The Item1 is : {self.__item1}\")\n",
    "        if self.__item2:\n",
    "            print(f\"The Item2 is : {self.__item2}\")\n",
    "        if self.__item3:\n",
    "            print(f\"The Item3 is : {self.__item3}\")\n",
    "        if self.__item4:\n",
    "            print(f\"The Item4 is : {self.__item4}\")\n",
    "        if self.__item5:\n",
    "            print(f\"The Item5 is : {self.__item5}\")\n",
    "        if self.__item:\n",
    "            print(f\"The Item6 is : {self.__item}\")\n",
    "        print(\"=========================================\")"
   ]
  },
  {
   "cell_type": "code",
   "execution_count": 84,
   "id": "9d74e3e8-ca7c-4776-a59e-e34768086ba2",
   "metadata": {},
   "outputs": [],
   "source": [
    "c=ShoppingCart(\"soap\",\"oil\",\"Rice\",\"apple\",\"cake\")"
   ]
  },
  {
   "cell_type": "code",
   "execution_count": 86,
   "id": "f49c296e-e64b-448b-a806-a56223b7837f",
   "metadata": {},
   "outputs": [
    {
     "name": "stdout",
     "output_type": "stream",
     "text": [
      "Sucessfuly Added\n"
     ]
    },
    {
     "data": {
      "text/plain": [
       "'mango'"
      ]
     },
     "execution_count": 86,
     "metadata": {},
     "output_type": "execute_result"
    }
   ],
   "source": [
    "c.add_item(\"mango\")"
   ]
  },
  {
   "cell_type": "code",
   "execution_count": 78,
   "id": "b9a195a3-3e10-4c70-a82f-ac8c00b4d075",
   "metadata": {},
   "outputs": [
    {
     "name": "stdout",
     "output_type": "stream",
     "text": [
      "Sucessfuly removed\n"
     ]
    }
   ],
   "source": [
    "c.remove_item(\"mango\")"
   ]
  },
  {
   "cell_type": "code",
   "execution_count": 87,
   "id": "6ee9b2b7-9500-476a-b0e9-9f37da84c3d2",
   "metadata": {},
   "outputs": [
    {
     "name": "stdout",
     "output_type": "stream",
     "text": [
      "============== Cart Details==============\n",
      "The Item1 is : Soap\n",
      "The Item2 is : Oil\n",
      "The Item3 is : Rice\n",
      "The Item4 is : Apple\n",
      "The Item5 is : Cake\n",
      "The Item6 is : Mango\n",
      "=========================================\n"
     ]
    }
   ],
   "source": [
    "c.view_cart()"
   ]
  },
  {
   "cell_type": "code",
   "execution_count": null,
   "id": "89ac6254-dcc1-4d44-a42d-e1b2f2c5f81b",
   "metadata": {},
   "outputs": [],
   "source": []
  }
 ],
 "metadata": {
  "kernelspec": {
   "display_name": "Python 3 (ipykernel)",
   "language": "python",
   "name": "python3"
  },
  "language_info": {
   "codemirror_mode": {
    "name": "ipython",
    "version": 3
   },
   "file_extension": ".py",
   "mimetype": "text/x-python",
   "name": "python",
   "nbconvert_exporter": "python",
   "pygments_lexer": "ipython3",
   "version": "3.13.5"
  }
 },
 "nbformat": 4,
 "nbformat_minor": 5
}
