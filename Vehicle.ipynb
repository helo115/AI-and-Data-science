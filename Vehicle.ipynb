{
 "cells": [
  {
   "cell_type": "markdown",
   "id": "dd846e26-304e-4cf0-a7fd-1cacdeae16aa",
   "metadata": {},
   "source": [
    "Task 2: Single Level – Vehicle\n",
    " Parent class Vehicle with attributes brand, model.\n",
    " Child class Car with attribute seats.\n",
    " Create object of Car and display details. \n"
   ]
  },
  {
   "cell_type": "code",
   "execution_count": 1,
   "id": "bb62d311-beb9-4dde-8b70-b40e49f2dd58",
   "metadata": {},
   "outputs": [],
   "source": [
    "class Vehicle():\n",
    "    def __init__(self,brand,model):\n",
    "        self.brand=brand\n",
    "        self.model=model\n",
    "        "
   ]
  },
  {
   "cell_type": "code",
   "execution_count": 9,
   "id": "3e6a2703-99ed-49cb-bda0-d771b7a4f93c",
   "metadata": {},
   "outputs": [],
   "source": [
    "class Car(Vehicle):\n",
    "    def __init__(self,seats,brand,model):\n",
    "        super().__init__(brand,model)\n",
    "        self.seats=seats\n",
    "    def display(self):\n",
    "        print(\"=============Car Details==============\")\n",
    "        print(f\"The car model is : {self.model}\")\n",
    "        print(f\"The car brand is : {self.brand}\")\n",
    "        print(f\"The car is  {self.seats} seaters \")\n",
    "        print(\"======================================\")"
   ]
  },
  {
   "cell_type": "code",
   "execution_count": 10,
   "id": "e5557cc8-355e-43c2-88cd-8bcda3e2ba3c",
   "metadata": {},
   "outputs": [],
   "source": [
    "c=Vehicle(\"Toyota\",\"2024\")"
   ]
  },
  {
   "cell_type": "code",
   "execution_count": 11,
   "id": "58efe26b-9be4-40e7-8065-8b4a4245f48b",
   "metadata": {},
   "outputs": [
    {
     "data": {
      "text/plain": [
       "'Toyota'"
      ]
     },
     "execution_count": 11,
     "metadata": {},
     "output_type": "execute_result"
    }
   ],
   "source": [
    "c.brand"
   ]
  },
  {
   "cell_type": "code",
   "execution_count": 12,
   "id": "7917cff0-3eba-4a96-a542-ff76af5587ae",
   "metadata": {},
   "outputs": [
    {
     "data": {
      "text/plain": [
       "'2024'"
      ]
     },
     "execution_count": 12,
     "metadata": {},
     "output_type": "execute_result"
    }
   ],
   "source": [
    "c.model"
   ]
  },
  {
   "cell_type": "code",
   "execution_count": 6,
   "id": "98a73e61-a8c4-44d1-b536-6ad497a034d0",
   "metadata": {},
   "outputs": [],
   "source": [
    "f=Car(\"5\",\"Toyota\",\"2025\")"
   ]
  },
  {
   "cell_type": "code",
   "execution_count": 7,
   "id": "01384fb2-b7a8-4cf0-a333-1db48ea9294b",
   "metadata": {},
   "outputs": [
    {
     "data": {
      "text/plain": [
       "'Toyota'"
      ]
     },
     "execution_count": 7,
     "metadata": {},
     "output_type": "execute_result"
    }
   ],
   "source": [
    "f.brand"
   ]
  },
  {
   "cell_type": "code",
   "execution_count": 8,
   "id": "8830b1a7-662b-4a83-b6fa-695fb4157716",
   "metadata": {},
   "outputs": [
    {
     "data": {
      "text/plain": [
       "'2025'"
      ]
     },
     "execution_count": 8,
     "metadata": {},
     "output_type": "execute_result"
    }
   ],
   "source": [
    "f.model"
   ]
  },
  {
   "cell_type": "code",
   "execution_count": null,
   "id": "f9548834-ecf2-4afc-9e11-3107c81dc092",
   "metadata": {},
   "outputs": [],
   "source": [
    "f.seats"
   ]
  }
 ],
 "metadata": {
  "kernelspec": {
   "display_name": "Python 3 (ipykernel)",
   "language": "python",
   "name": "python3"
  },
  "language_info": {
   "codemirror_mode": {
    "name": "ipython",
    "version": 3
   },
   "file_extension": ".py",
   "mimetype": "text/x-python",
   "name": "python",
   "nbconvert_exporter": "python",
   "pygments_lexer": "ipython3",
   "version": "3.13.5"
  }
 },
 "nbformat": 4,
 "nbformat_minor": 5
}
