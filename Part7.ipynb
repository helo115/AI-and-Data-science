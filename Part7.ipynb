{
 "cells": [
  {
   "cell_type": "markdown",
   "id": "76227555-daf5-4ce9-9001-8b8ca167c6fc",
   "metadata": {},
   "source": [
    "Part 4: Reshape, Flatten, Ravel\n",
    "1. Create an array of numbers from 1–12. Reshape it into a (3×4) array. Then reshape it again into (2×6).\n",
    "2. Use .flatten() and .ravel() on a 2D array and show the difference between them when you modify the\n",
    "flattened and raveled array.\n",
    "3. Given an array:\n",
    "arr = np.arange(1, 10).reshape(3, 3)\n",
    " - Convert it into a 1D array using both methods.\n",
    " - Show if changes in one reflect in the original array. "
   ]
  },
  {
   "cell_type": "code",
   "execution_count": 3,
   "id": "a10ae5ac-9a96-4d09-ba0c-900edc433c28",
   "metadata": {},
   "outputs": [],
   "source": [
    "import numpy as np"
   ]
  },
  {
   "cell_type": "code",
   "execution_count": 4,
   "id": "731f9aa8-d74c-4775-8e47-59bfeb30a57d",
   "metadata": {},
   "outputs": [],
   "source": [
    "array=np.array([1,2,3,4,5,6,7,8,9,10,11,12])"
   ]
  },
  {
   "cell_type": "code",
   "execution_count": 9,
   "id": "5f10c0f0-9c1c-4228-82f0-a3e304e77d26",
   "metadata": {},
   "outputs": [],
   "source": [
    "array=array.reshape(3,4)"
   ]
  },
  {
   "cell_type": "code",
   "execution_count": 10,
   "id": "da616d96-4227-434b-94ba-c239abc9e30f",
   "metadata": {},
   "outputs": [
    {
     "data": {
      "text/plain": [
       "array([[ 1,  2,  3,  4],\n",
       "       [ 5,  6,  7,  8],\n",
       "       [ 9, 10, 11, 12]])"
      ]
     },
     "execution_count": 10,
     "metadata": {},
     "output_type": "execute_result"
    }
   ],
   "source": [
    "array"
   ]
  },
  {
   "cell_type": "code",
   "execution_count": 14,
   "id": "93406d1c-e454-43ad-bcb3-eb9e00ef6d83",
   "metadata": {},
   "outputs": [],
   "source": [
    "array=array.reshape(2,6)"
   ]
  },
  {
   "cell_type": "code",
   "execution_count": 15,
   "id": "6c8e48b5-1c31-49d4-afb7-88558c1bb229",
   "metadata": {},
   "outputs": [
    {
     "data": {
      "text/plain": [
       "array([[ 1,  2,  3,  4,  5,  6],\n",
       "       [ 7,  8,  9, 10, 11, 12]])"
      ]
     },
     "execution_count": 15,
     "metadata": {},
     "output_type": "execute_result"
    }
   ],
   "source": [
    "array"
   ]
  },
  {
   "cell_type": "code",
   "execution_count": 16,
   "id": "b0fd1b17-b732-4148-9d2f-0724ff87d76e",
   "metadata": {},
   "outputs": [],
   "source": [
    "array1=np.array([\n",
    "    [2,6,8,1,5],\n",
    "    [9,6,0,4,2],\n",
    "    [7,9,5,8,2]])"
   ]
  },
  {
   "cell_type": "code",
   "execution_count": 17,
   "id": "88515cb7-8481-4635-b78f-7f40961deeaa",
   "metadata": {},
   "outputs": [
    {
     "data": {
      "text/plain": [
       "array([[2, 6, 8, 1, 5],\n",
       "       [9, 6, 0, 4, 2],\n",
       "       [7, 9, 5, 8, 2]])"
      ]
     },
     "execution_count": 17,
     "metadata": {},
     "output_type": "execute_result"
    }
   ],
   "source": [
    "array1"
   ]
  },
  {
   "cell_type": "code",
   "execution_count": 24,
   "id": "20edb81c-9847-43b4-b667-9008dbdc0168",
   "metadata": {},
   "outputs": [],
   "source": [
    "# Flatten\n",
    "v=array1.flatten()"
   ]
  },
  {
   "cell_type": "code",
   "execution_count": 25,
   "id": "a535048f-8466-4624-b4a5-f181cf2f8e42",
   "metadata": {},
   "outputs": [
    {
     "data": {
      "text/plain": [
       "array([2, 6, 8, 1, 5, 9, 6, 0, 4, 2, 7, 9, 5, 8, 2])"
      ]
     },
     "execution_count": 25,
     "metadata": {},
     "output_type": "execute_result"
    }
   ],
   "source": [
    "v"
   ]
  },
  {
   "cell_type": "code",
   "execution_count": 26,
   "id": "6c4451ed-c5da-496b-bc0c-f94c8204711a",
   "metadata": {},
   "outputs": [],
   "source": [
    "# ravel\n",
    "r=array1.ravel()"
   ]
  },
  {
   "cell_type": "code",
   "execution_count": 27,
   "id": "0d761d9c-de28-4ac8-b23b-4a56b64db842",
   "metadata": {},
   "outputs": [
    {
     "data": {
      "text/plain": [
       "array([2, 6, 8, 1, 5, 9, 6, 0, 4, 2, 7, 9, 5, 8, 2])"
      ]
     },
     "execution_count": 27,
     "metadata": {},
     "output_type": "execute_result"
    }
   ],
   "source": [
    "r"
   ]
  },
  {
   "cell_type": "markdown",
   "id": "c2dc2bf6-a31d-4cc4-8494-6ba0ab859547",
   "metadata": {},
   "source": [
    "FLATTEN makes thE copy of ARRAY which is used when if we do not need to change the original array we use flatten.\n",
    "RAVEL makes the View of ARRAY which means change in view equal to change in orginal array. "
   ]
  },
  {
   "cell_type": "code",
   "execution_count": 28,
   "id": "9cea6bc2-5d8b-4f18-9c65-b3132d371630",
   "metadata": {},
   "outputs": [
    {
     "data": {
      "text/plain": [
       "np.int64(6)"
      ]
     },
     "execution_count": 28,
     "metadata": {},
     "output_type": "execute_result"
    }
   ],
   "source": [
    "v[1]"
   ]
  },
  {
   "cell_type": "code",
   "execution_count": 29,
   "id": "074dbbbb-e385-4e16-b3f0-32be73e1eab3",
   "metadata": {},
   "outputs": [],
   "source": [
    "v[1]=78"
   ]
  },
  {
   "cell_type": "code",
   "execution_count": 30,
   "id": "d7db4195-6e83-402b-9d22-62d9de9275e0",
   "metadata": {},
   "outputs": [
    {
     "data": {
      "text/plain": [
       "array([ 2, 78,  8,  1,  5,  9,  6,  0,  4,  2,  7,  9,  5,  8,  2])"
      ]
     },
     "execution_count": 30,
     "metadata": {},
     "output_type": "execute_result"
    }
   ],
   "source": [
    "v"
   ]
  },
  {
   "cell_type": "code",
   "execution_count": 31,
   "id": "eb4715f8-02f1-4532-ac89-32b1ce138228",
   "metadata": {},
   "outputs": [
    {
     "data": {
      "text/plain": [
       "np.int64(78)"
      ]
     },
     "execution_count": 31,
     "metadata": {},
     "output_type": "execute_result"
    }
   ],
   "source": [
    "v[1]"
   ]
  },
  {
   "cell_type": "code",
   "execution_count": 32,
   "id": "4a7af58e-49e9-4127-9153-c56f3082dd11",
   "metadata": {},
   "outputs": [
    {
     "data": {
      "text/plain": [
       "array([[2, 6, 8, 1, 5],\n",
       "       [9, 6, 0, 4, 2],\n",
       "       [7, 9, 5, 8, 2]])"
      ]
     },
     "execution_count": 32,
     "metadata": {},
     "output_type": "execute_result"
    }
   ],
   "source": [
    "array1"
   ]
  },
  {
   "cell_type": "code",
   "execution_count": 33,
   "id": "a330b6d1-7aad-4fe5-9376-062de91bb8cd",
   "metadata": {},
   "outputs": [
    {
     "data": {
      "text/plain": [
       "np.int64(6)"
      ]
     },
     "execution_count": 33,
     "metadata": {},
     "output_type": "execute_result"
    }
   ],
   "source": [
    "r[1]"
   ]
  },
  {
   "cell_type": "code",
   "execution_count": 35,
   "id": "9341e31a-c921-40fb-94ba-706054469947",
   "metadata": {},
   "outputs": [],
   "source": [
    "r[4]=100"
   ]
  },
  {
   "cell_type": "code",
   "execution_count": 36,
   "id": "211e61dd-d8ef-4b26-8889-0a28d5a45d3e",
   "metadata": {},
   "outputs": [
    {
     "data": {
      "text/plain": [
       "array([  2,  32,   8,   1, 100,   9,   6,   0,   4,   2,   7,   9,   5,\n",
       "         8,   2])"
      ]
     },
     "execution_count": 36,
     "metadata": {},
     "output_type": "execute_result"
    }
   ],
   "source": [
    "r"
   ]
  },
  {
   "cell_type": "code",
   "execution_count": 37,
   "id": "b2ac62fb-ba42-47a7-bf45-79d6c7f36206",
   "metadata": {},
   "outputs": [
    {
     "data": {
      "text/plain": [
       "array([[  2,  32,   8,   1, 100],\n",
       "       [  9,   6,   0,   4,   2],\n",
       "       [  7,   9,   5,   8,   2]])"
      ]
     },
     "execution_count": 37,
     "metadata": {},
     "output_type": "execute_result"
    }
   ],
   "source": [
    "array1"
   ]
  },
  {
   "cell_type": "code",
   "execution_count": 38,
   "id": "4072a6dc-0c3d-452d-9b1b-f12254f46c80",
   "metadata": {},
   "outputs": [],
   "source": [
    "array3=np.arange(1,10)"
   ]
  },
  {
   "cell_type": "code",
   "execution_count": 39,
   "id": "32fcb48a-ddb9-4095-8ce1-cd82b7053fdd",
   "metadata": {},
   "outputs": [
    {
     "data": {
      "text/plain": [
       "array([1, 2, 3, 4, 5, 6, 7, 8, 9])"
      ]
     },
     "execution_count": 39,
     "metadata": {},
     "output_type": "execute_result"
    }
   ],
   "source": [
    "array3"
   ]
  },
  {
   "cell_type": "code",
   "execution_count": 42,
   "id": "2e952a05-2cfd-4dbf-9856-a4a8454f9256",
   "metadata": {},
   "outputs": [],
   "source": [
    "nnn=array3.reshape(3,3)"
   ]
  },
  {
   "cell_type": "code",
   "execution_count": 43,
   "id": "a38d3651-fe6e-454a-81e6-d878fcbdca93",
   "metadata": {},
   "outputs": [],
   "source": [
    "nnn[1,1]=75"
   ]
  },
  {
   "cell_type": "code",
   "execution_count": 44,
   "id": "2808f7e0-85a5-4721-92f6-e50a1f108a03",
   "metadata": {},
   "outputs": [
    {
     "data": {
      "text/plain": [
       "array([[ 1,  2,  3],\n",
       "       [ 4, 75,  6],\n",
       "       [ 7,  8,  9]])"
      ]
     },
     "execution_count": 44,
     "metadata": {},
     "output_type": "execute_result"
    }
   ],
   "source": [
    "nnn"
   ]
  },
  {
   "cell_type": "code",
   "execution_count": 45,
   "id": "a93029e5-9269-436d-8220-2c37cd189367",
   "metadata": {},
   "outputs": [
    {
     "data": {
      "text/plain": [
       "array([ 1,  2,  3,  4, 75,  6,  7,  8,  9])"
      ]
     },
     "execution_count": 45,
     "metadata": {},
     "output_type": "execute_result"
    }
   ],
   "source": [
    "array3"
   ]
  },
  {
   "cell_type": "code",
   "execution_count": 46,
   "id": "2ca207a7-8490-49a5-a0fe-fd3b785ae691",
   "metadata": {},
   "outputs": [],
   "source": [
    "nnn[1,0:3]=9"
   ]
  },
  {
   "cell_type": "code",
   "execution_count": 47,
   "id": "7e5c8f36-2cf5-4543-9011-e1c0e1b3d855",
   "metadata": {},
   "outputs": [
    {
     "data": {
      "text/plain": [
       "array([[1, 2, 3],\n",
       "       [9, 9, 9],\n",
       "       [7, 8, 9]])"
      ]
     },
     "execution_count": 47,
     "metadata": {},
     "output_type": "execute_result"
    }
   ],
   "source": [
    "nnn\n"
   ]
  },
  {
   "cell_type": "code",
   "execution_count": 59,
   "id": "c0fa93c4-5c76-4761-8b53-768ca056bdd5",
   "metadata": {},
   "outputs": [
    {
     "data": {
      "text/plain": [
       "array([ 1,  2, 88,  9,  9,  9,  7,  8,  9])"
      ]
     },
     "execution_count": 59,
     "metadata": {},
     "output_type": "execute_result"
    }
   ],
   "source": [
    "array3"
   ]
  },
  {
   "cell_type": "code",
   "execution_count": 60,
   "id": "1f48b793-a81b-4240-bee5-f333e9a29ee8",
   "metadata": {},
   "outputs": [],
   "source": [
    "mmm=array3.flatten()"
   ]
  },
  {
   "cell_type": "code",
   "execution_count": 61,
   "id": "be0e722b-7400-4632-a7e6-951f66bb00f3",
   "metadata": {},
   "outputs": [
    {
     "data": {
      "text/plain": [
       "1"
      ]
     },
     "execution_count": 61,
     "metadata": {},
     "output_type": "execute_result"
    }
   ],
   "source": [
    "mmm.ndim"
   ]
  },
  {
   "cell_type": "code",
   "execution_count": 62,
   "id": "c6988f06-31b9-400e-b2bb-34bab72e6b38",
   "metadata": {},
   "outputs": [
    {
     "data": {
      "text/plain": [
       "array([ 1,  2, 88,  9,  9,  9,  7,  8,  9])"
      ]
     },
     "execution_count": 62,
     "metadata": {},
     "output_type": "execute_result"
    }
   ],
   "source": [
    "mmm"
   ]
  },
  {
   "cell_type": "code",
   "execution_count": 63,
   "id": "3a2f63f1-7a58-4b68-ae10-ad3043724ffa",
   "metadata": {},
   "outputs": [],
   "source": [
    "mmm[2]=88"
   ]
  },
  {
   "cell_type": "code",
   "execution_count": 64,
   "id": "591da23f-bd9f-4729-a081-ef45e0dcddd3",
   "metadata": {},
   "outputs": [
    {
     "data": {
      "text/plain": [
       "array([ 1,  2, 88,  9,  9,  9,  7,  8,  9])"
      ]
     },
     "execution_count": 64,
     "metadata": {},
     "output_type": "execute_result"
    }
   ],
   "source": [
    "mmm"
   ]
  },
  {
   "cell_type": "code",
   "execution_count": 65,
   "id": "b899c7eb-2166-4df0-97ca-d853577ffb50",
   "metadata": {},
   "outputs": [
    {
     "data": {
      "text/plain": [
       "array([ 1,  2, 88,  9,  9,  9,  7,  8,  9])"
      ]
     },
     "execution_count": 65,
     "metadata": {},
     "output_type": "execute_result"
    }
   ],
   "source": [
    "array3"
   ]
  },
  {
   "cell_type": "code",
   "execution_count": 66,
   "id": "118818d7-dc83-4fe7-baab-8ef4d82c3fa5",
   "metadata": {},
   "outputs": [],
   "source": [
    "mmm[3]=110"
   ]
  },
  {
   "cell_type": "code",
   "execution_count": 67,
   "id": "37204d48-498a-4f45-a27c-f177e9989c06",
   "metadata": {},
   "outputs": [
    {
     "data": {
      "text/plain": [
       "array([  1,   2,  88, 110,   9,   9,   7,   8,   9])"
      ]
     },
     "execution_count": 67,
     "metadata": {},
     "output_type": "execute_result"
    }
   ],
   "source": [
    "mmm"
   ]
  },
  {
   "cell_type": "code",
   "execution_count": 68,
   "id": "6b41767d-d9d2-4c31-be6d-1460086dea25",
   "metadata": {},
   "outputs": [
    {
     "data": {
      "text/plain": [
       "array([ 1,  2, 88,  9,  9,  9,  7,  8,  9])"
      ]
     },
     "execution_count": 68,
     "metadata": {},
     "output_type": "execute_result"
    }
   ],
   "source": [
    "array3"
   ]
  },
  {
   "cell_type": "code",
   "execution_count": 71,
   "id": "692e94e7-badd-4355-914d-8018a28f658e",
   "metadata": {},
   "outputs": [],
   "source": [
    "bn=array3.ravel()"
   ]
  },
  {
   "cell_type": "code",
   "execution_count": 72,
   "id": "24531bb5-9d7c-4862-a1c6-248f082fa880",
   "metadata": {},
   "outputs": [
    {
     "data": {
      "text/plain": [
       "array([ 1,  2, 88,  9,  9,  9,  7,  8,  9])"
      ]
     },
     "execution_count": 72,
     "metadata": {},
     "output_type": "execute_result"
    }
   ],
   "source": [
    "bn"
   ]
  },
  {
   "cell_type": "code",
   "execution_count": 73,
   "id": "70afe535-137f-46d0-b3cd-dc3920111f92",
   "metadata": {},
   "outputs": [],
   "source": [
    "bn[6]=180"
   ]
  },
  {
   "cell_type": "code",
   "execution_count": 74,
   "id": "894486d0-670d-4a13-ad1b-da2d315ead54",
   "metadata": {},
   "outputs": [
    {
     "data": {
      "text/plain": [
       "array([  1,   2,  88,   9,   9,   9, 180,   8,   9])"
      ]
     },
     "execution_count": 74,
     "metadata": {},
     "output_type": "execute_result"
    }
   ],
   "source": [
    "bn"
   ]
  },
  {
   "cell_type": "code",
   "execution_count": 75,
   "id": "cbc00100-3a0e-4ab5-8db0-50c65a4d8b91",
   "metadata": {},
   "outputs": [
    {
     "data": {
      "text/plain": [
       "array([  1,   2,  88,   9,   9,   9, 180,   8,   9])"
      ]
     },
     "execution_count": 75,
     "metadata": {},
     "output_type": "execute_result"
    }
   ],
   "source": [
    "array3"
   ]
  },
  {
   "cell_type": "code",
   "execution_count": null,
   "id": "10380868-c9b3-414e-9d00-022aec9fb338",
   "metadata": {},
   "outputs": [],
   "source": []
  }
 ],
 "metadata": {
  "kernelspec": {
   "display_name": "Python 3 (ipykernel)",
   "language": "python",
   "name": "python3"
  },
  "language_info": {
   "codemirror_mode": {
    "name": "ipython",
    "version": 3
   },
   "file_extension": ".py",
   "mimetype": "text/x-python",
   "name": "python",
   "nbconvert_exporter": "python",
   "pygments_lexer": "ipython3",
   "version": "3.13.5"
  }
 },
 "nbformat": 4,
 "nbformat_minor": 5
}
