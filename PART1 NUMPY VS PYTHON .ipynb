{
 "cells": [
  {
   "cell_type": "markdown",
   "id": "d2815a43-9ff6-4332-ac22-5e6456efd09e",
   "metadata": {},
   "source": [
    "1. Create a list of 10,0000 numbers and a NumPy array of the same numbers.\n",
    "- Measure and compare the time taken to multiply each element by 5.\n",
    "- Which one is faster? Why?"
   ]
  },
  {
   "cell_type": "code",
   "execution_count": 41,
   "id": "14193c22-9a8e-4e8e-9792-ff0c71d0fa03",
   "metadata": {},
   "outputs": [
    {
     "name": "stdout",
     "output_type": "stream",
     "text": [
      "CPU times: total: 31.2 ms\n",
      "Wall time: 28.8 ms\n"
     ]
    }
   ],
   "source": [
    "%%time\n",
    "list1=[ i for  i in range(100000)]"
   ]
  },
  {
   "cell_type": "code",
   "execution_count": 42,
   "id": "055623f7-94ba-4e9e-8740-6590cb0b26b5",
   "metadata": {},
   "outputs": [],
   "source": [
    "import numpy as np"
   ]
  },
  {
   "cell_type": "code",
   "execution_count": 43,
   "id": "15fe6fa2-215a-4e34-a943-19062a66a62a",
   "metadata": {},
   "outputs": [
    {
     "name": "stdout",
     "output_type": "stream",
     "text": [
      "CPU times: total: 0 ns\n",
      "Wall time: 2.21 ms\n"
     ]
    }
   ],
   "source": [
    "%%time\n",
    "a=np.arange(100000)"
   ]
  },
  {
   "cell_type": "code",
   "execution_count": 44,
   "id": "97d6a6de-48e3-4f38-9e34-acb3d4bb350a",
   "metadata": {},
   "outputs": [
    {
     "name": "stdout",
     "output_type": "stream",
     "text": [
      "CPU times: total: 78.1 ms\n",
      "Wall time: 73.3 ms\n"
     ]
    }
   ],
   "source": [
    "%%time\n",
    "for i in list1:\n",
    "    c=5*i"
   ]
  },
  {
   "cell_type": "code",
   "execution_count": 47,
   "id": "56815a6c-27fb-41ec-87dc-961d38bd8006",
   "metadata": {},
   "outputs": [
    {
     "name": "stdout",
     "output_type": "stream",
     "text": [
      "499995\n"
     ]
    }
   ],
   "source": [
    "print(c)"
   ]
  },
  {
   "cell_type": "code",
   "execution_count": 48,
   "id": "51170fdc-0a0d-4478-9a4b-d8142e847179",
   "metadata": {},
   "outputs": [
    {
     "name": "stdout",
     "output_type": "stream",
     "text": [
      "[    0     1     2 ... 99997 99998 99999]\n"
     ]
    }
   ],
   "source": [
    "print(a)\n"
   ]
  },
  {
   "cell_type": "code",
   "execution_count": 51,
   "id": "00bc1761-e1c1-479e-938a-31d760603f09",
   "metadata": {},
   "outputs": [
    {
     "name": "stdout",
     "output_type": "stream",
     "text": [
      "CPU times: total: 0 ns\n",
      "Wall time: 1.78 ms\n"
     ]
    }
   ],
   "source": [
    "%%time\n",
    "a=a*5"
   ]
  },
  {
   "cell_type": "code",
   "execution_count": 50,
   "id": "aa3b49ae-639c-449f-a3ab-9605c14e1587",
   "metadata": {},
   "outputs": [
    {
     "data": {
      "text/plain": [
       "array([     0,      5,     10, ..., 499985, 499990, 499995])"
      ]
     },
     "execution_count": 50,
     "metadata": {},
     "output_type": "execute_result"
    }
   ],
   "source": [
    "a"
   ]
  },
  {
   "cell_type": "markdown",
   "id": "5cee1387-dc80-4d72-89c4-21104432d9d8",
   "metadata": {},
   "source": [
    "ANSWER NUMPY is faster and efficient tha PYTHON LIST because numpy is written on C language which is very faster than python and python is the slowest language \n",
    "and also in numpy array we not need loop to access each element to vactorization but python we need for loop to access list element"
   ]
  }
 ],
 "metadata": {
  "kernelspec": {
   "display_name": "Python 3 (ipykernel)",
   "language": "python",
   "name": "python3"
  },
  "language_info": {
   "codemirror_mode": {
    "name": "ipython",
    "version": 3
   },
   "file_extension": ".py",
   "mimetype": "text/x-python",
   "name": "python",
   "nbconvert_exporter": "python",
   "pygments_lexer": "ipython3",
   "version": "3.13.5"
  }
 },
 "nbformat": 4,
 "nbformat_minor": 5
}
