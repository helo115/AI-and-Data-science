{
 "cells": [
  {
   "cell_type": "markdown",
   "id": "2fba9fcb-1954-4b67-bf5d-a2bb83173941",
   "metadata": {},
   "source": [
    "Part 2: Array Creation and Data Types\n",
    "1. Create:\n",
    "- A 1D array of integers from 1 to 10\n",
    "- A 2D array of size 3×3 with numbers from 1–9\n",
    "2. Display:\n",
    "- Dimensions, Shape, Size, DataTypes and size of each elements in an array ---- (for each array\n",
    "created in step 1)\n",
    "3. Create a 3x3 array of floats and convert it into an integer array using .astype()"
   ]
  },
  {
   "cell_type": "code",
   "execution_count": 8,
   "id": "5611222c-8423-422d-b108-47d2f0e90507",
   "metadata": {},
   "outputs": [],
   "source": [
    "import numpy as np"
   ]
  },
  {
   "cell_type": "code",
   "execution_count": 19,
   "id": "35f7535a-e7df-48d7-87d4-c552724c2371",
   "metadata": {},
   "outputs": [],
   "source": [
    "array=np.array(np.arange(1,11))"
   ]
  },
  {
   "cell_type": "code",
   "execution_count": 20,
   "id": "7094361a-73ff-4006-93dd-a65b4268c124",
   "metadata": {},
   "outputs": [
    {
     "data": {
      "text/plain": [
       "array([ 1,  2,  3,  4,  5,  6,  7,  8,  9, 10])"
      ]
     },
     "execution_count": 20,
     "metadata": {},
     "output_type": "execute_result"
    }
   ],
   "source": [
    "array"
   ]
  },
  {
   "cell_type": "code",
   "execution_count": 21,
   "id": "923d78b9-bc82-425b-b1d6-d34a1fde35ef",
   "metadata": {},
   "outputs": [
    {
     "data": {
      "text/plain": [
       "1"
      ]
     },
     "execution_count": 21,
     "metadata": {},
     "output_type": "execute_result"
    }
   ],
   "source": [
    "array.ndim"
   ]
  },
  {
   "cell_type": "code",
   "execution_count": 23,
   "id": "4f91b4da-5738-4ee5-8b37-dc80d96e5ffd",
   "metadata": {},
   "outputs": [
    {
     "data": {
      "text/plain": [
       "dtype('int64')"
      ]
     },
     "execution_count": 23,
     "metadata": {},
     "output_type": "execute_result"
    }
   ],
   "source": [
    "array.dtype"
   ]
  },
  {
   "cell_type": "code",
   "execution_count": 24,
   "id": "051d1336-8580-40f3-a4ab-0b6190b41a57",
   "metadata": {},
   "outputs": [
    {
     "data": {
      "text/plain": [
       "(10,)"
      ]
     },
     "execution_count": 24,
     "metadata": {},
     "output_type": "execute_result"
    }
   ],
   "source": [
    "array.shape"
   ]
  },
  {
   "cell_type": "code",
   "execution_count": 25,
   "id": "c2662c7c-c0fc-4129-90cb-679b13cbcb8f",
   "metadata": {},
   "outputs": [
    {
     "data": {
      "text/plain": [
       "10"
      ]
     },
     "execution_count": 25,
     "metadata": {},
     "output_type": "execute_result"
    }
   ],
   "source": [
    "array.size"
   ]
  },
  {
   "cell_type": "code",
   "execution_count": 26,
   "id": "8c66b17a-ea36-4913-ae6c-d8455b961a2e",
   "metadata": {},
   "outputs": [
    {
     "data": {
      "text/plain": [
       "8"
      ]
     },
     "execution_count": 26,
     "metadata": {},
     "output_type": "execute_result"
    }
   ],
   "source": [
    "array.itemsize"
   ]
  },
  {
   "cell_type": "code",
   "execution_count": 39,
   "id": "e4a04a7e-82b1-4d9c-b6f1-97286fefafb6",
   "metadata": {},
   "outputs": [],
   "source": [
    "array2=np.array([\n",
    "      [1,2,3],\n",
    "      [4,5,6],\n",
    "      [7,8,9]\n",
    "])"
   ]
  },
  {
   "cell_type": "code",
   "execution_count": 32,
   "id": "86a83334-26e6-4c11-b95a-6b4f5574823c",
   "metadata": {},
   "outputs": [
    {
     "data": {
      "text/plain": [
       "9"
      ]
     },
     "execution_count": 32,
     "metadata": {},
     "output_type": "execute_result"
    }
   ],
   "source": [
    "array2.size"
   ]
  },
  {
   "cell_type": "code",
   "execution_count": 33,
   "id": "5e98167f-df81-402f-aaa8-f00b239b0e96",
   "metadata": {},
   "outputs": [
    {
     "data": {
      "text/plain": [
       "(3, 3)"
      ]
     },
     "execution_count": 33,
     "metadata": {},
     "output_type": "execute_result"
    }
   ],
   "source": [
    "array2.shape"
   ]
  },
  {
   "cell_type": "code",
   "execution_count": 35,
   "id": "1a4b770b-a514-46ea-9a9a-a1d2a830b0e4",
   "metadata": {},
   "outputs": [
    {
     "data": {
      "text/plain": [
       "2"
      ]
     },
     "execution_count": 35,
     "metadata": {},
     "output_type": "execute_result"
    }
   ],
   "source": [
    "array2.ndim"
   ]
  },
  {
   "cell_type": "code",
   "execution_count": 36,
   "id": "c098754f-a35f-498f-8bab-bfceb3bd0dc7",
   "metadata": {},
   "outputs": [
    {
     "data": {
      "text/plain": [
       "dtype('int64')"
      ]
     },
     "execution_count": 36,
     "metadata": {},
     "output_type": "execute_result"
    }
   ],
   "source": [
    "array2.dtype"
   ]
  },
  {
   "cell_type": "code",
   "execution_count": 37,
   "id": "15260ae9-3038-4794-83eb-284f17acf299",
   "metadata": {},
   "outputs": [
    {
     "data": {
      "text/plain": [
       "8"
      ]
     },
     "execution_count": 37,
     "metadata": {},
     "output_type": "execute_result"
    }
   ],
   "source": [
    "array2.itemsize"
   ]
  },
  {
   "cell_type": "code",
   "execution_count": 40,
   "id": "a1765393-5753-4dd3-8d6f-20340c93c38c",
   "metadata": {},
   "outputs": [],
   "source": [
    "array3=np.array([\n",
    "      [1.9,2.3,3.5],\n",
    "      [4.3,5.2,6.5],\n",
    "      [7.6,8.4,9.3]\n",
    "])"
   ]
  },
  {
   "cell_type": "code",
   "execution_count": 42,
   "id": "b66a30b5-ee33-46c2-9131-f2fd2693875d",
   "metadata": {},
   "outputs": [
    {
     "data": {
      "text/plain": [
       "dtype('float64')"
      ]
     },
     "execution_count": 42,
     "metadata": {},
     "output_type": "execute_result"
    }
   ],
   "source": [
    "array3.dtype"
   ]
  },
  {
   "cell_type": "code",
   "execution_count": null,
   "id": "437af7b8-533c-421d-9147-c75b0a7c45a6",
   "metadata": {},
   "outputs": [],
   "source": [
    "array3"
   ]
  }
 ],
 "metadata": {
  "kernelspec": {
   "display_name": "Python 3 (ipykernel)",
   "language": "python",
   "name": "python3"
  },
  "language_info": {
   "codemirror_mode": {
    "name": "ipython",
    "version": 3
   },
   "file_extension": ".py",
   "mimetype": "text/x-python",
   "name": "python",
   "nbconvert_exporter": "python",
   "pygments_lexer": "ipython3",
   "version": "3.13.5"
  }
 },
 "nbformat": 4,
 "nbformat_minor": 5
}
