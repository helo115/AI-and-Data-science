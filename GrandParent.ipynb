{
 "cells": [
  {
   "cell_type": "markdown",
   "id": "41c867a9-8c94-4823-9bd4-57e84238080d",
   "metadata": {},
   "source": [
    "Task 3: Multi-Level – Family Tree\n",
    " Create a class GrandParent with method family_name().\n",
    " Parent class inherits GrandParent. Add method occupation() in Parent class.\n",
    " Child inherits Parent. Add method hobby() in Child class.\n",
    " Create Child object and call all methods. "
   ]
  },
  {
   "cell_type": "code",
   "execution_count": 41,
   "id": "f517470c-3282-4268-bdd5-704eaf173ce5",
   "metadata": {},
   "outputs": [],
   "source": [
    "class GrandParent():\n",
    "    def __init__(self,family_nam):\n",
    "        self.family_name= family_nam\n",
    "    def family_Name(self):\n",
    "        return f\"the family name is: {self.family_name}\"\n",
    "    \n",
    "\n",
    "    "
   ]
  },
  {
   "cell_type": "code",
   "execution_count": 53,
   "id": "261852cb-64b1-4466-aacb-d4361d07642c",
   "metadata": {},
   "outputs": [],
   "source": [
    "class Parent(GrandParent):\n",
    "    def __init__(self,occupation,family):\n",
    "        super().__init__(family)\n",
    "        self.occupation=occupation\n",
    "    def Ocupation(self):\n",
    "        return f\"parent occupation is: {self.occupation}\""
   ]
  },
  {
   "cell_type": "code",
   "execution_count": 43,
   "id": "600fffd6-fca2-4e0f-b858-c0da9f71aa93",
   "metadata": {},
   "outputs": [],
   "source": [
    "class Child(Parent):\n",
    "    def __init__(self,hobby,family_nam,occupation):\n",
    "        super().__init__(occupation,family_nam)\n",
    "        self.hobby=hobby\n",
    "    def Hobby(self):\n",
    "        return f\"child hobby is : {self.hobby}\"\n",
    "        "
   ]
  },
  {
   "cell_type": "code",
   "execution_count": 44,
   "id": "38324153-48bb-4383-8c23-adf772a0ca26",
   "metadata": {},
   "outputs": [],
   "source": [
    "c=Child(\"cricket\",\"willson\",\"storekeeper\")"
   ]
  },
  {
   "cell_type": "code",
   "execution_count": 48,
   "id": "bd137df1-1abd-4044-ab57-2052ff9f4658",
   "metadata": {},
   "outputs": [
    {
     "data": {
      "text/plain": [
       "'willson'"
      ]
     },
     "execution_count": 48,
     "metadata": {},
     "output_type": "execute_result"
    }
   ],
   "source": [
    "c.family_name"
   ]
  },
  {
   "cell_type": "code",
   "execution_count": 49,
   "id": "0c6f4dbe-4b06-4e8c-8157-0b4f4d793ef0",
   "metadata": {},
   "outputs": [
    {
     "data": {
      "text/plain": [
       "'cricket'"
      ]
     },
     "execution_count": 49,
     "metadata": {},
     "output_type": "execute_result"
    }
   ],
   "source": [
    "c.hobby"
   ]
  },
  {
   "cell_type": "code",
   "execution_count": 50,
   "id": "915171e8-38ec-4442-8a3a-28e073a92d6b",
   "metadata": {},
   "outputs": [
    {
     "data": {
      "text/plain": [
       "'storekeeper'"
      ]
     },
     "execution_count": 50,
     "metadata": {},
     "output_type": "execute_result"
    }
   ],
   "source": [
    "c.occupation"
   ]
  },
  {
   "cell_type": "code",
   "execution_count": 51,
   "id": "7b2ba68b-63fe-48fb-9253-2dbaa2851703",
   "metadata": {},
   "outputs": [
    {
     "data": {
      "text/plain": [
       "'the family name is: willson'"
      ]
     },
     "execution_count": 51,
     "metadata": {},
     "output_type": "execute_result"
    }
   ],
   "source": [
    "c.family_Name()"
   ]
  },
  {
   "cell_type": "code",
   "execution_count": 52,
   "id": "1a0e1515-8fb0-44d6-96c0-668c24a5c1b8",
   "metadata": {},
   "outputs": [
    {
     "ename": "TypeError",
     "evalue": "'str' object is not callable",
     "output_type": "error",
     "traceback": [
      "\u001b[1;31m---------------------------------------------------------------------------\u001b[0m",
      "\u001b[1;31mTypeError\u001b[0m                                 Traceback (most recent call last)",
      "Cell \u001b[1;32mIn[52], line 1\u001b[0m\n\u001b[1;32m----> 1\u001b[0m c\u001b[38;5;241m.\u001b[39moccupation()\n",
      "\u001b[1;31mTypeError\u001b[0m: 'str' object is not callable"
     ]
    }
   ],
   "source": [
    "c.occupation()"
   ]
  },
  {
   "cell_type": "code",
   "execution_count": null,
   "id": "62e313b8-e14f-4eb0-9473-410c2829d5c6",
   "metadata": {},
   "outputs": [],
   "source": []
  }
 ],
 "metadata": {
  "kernelspec": {
   "display_name": "Python 3 (ipykernel)",
   "language": "python",
   "name": "python3"
  },
  "language_info": {
   "codemirror_mode": {
    "name": "ipython",
    "version": 3
   },
   "file_extension": ".py",
   "mimetype": "text/x-python",
   "name": "python",
   "nbconvert_exporter": "python",
   "pygments_lexer": "ipython3",
   "version": "3.13.5"
  }
 },
 "nbformat": 4,
 "nbformat_minor": 5
}
