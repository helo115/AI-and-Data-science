{
 "cells": [
  {
   "cell_type": "markdown",
   "id": "86bf1ea9-4ed2-4afc-bc18-5b9e9df46590",
   "metadata": {},
   "source": [
    "Part 3: Array Creation Functions\n",
    "1. Use NumPy built-in functions to generate:\n",
    "a) A zero matrix of size 4×4\n",
    "b) A one matrix of size 3×2\n",
    "c) An identity matrix of size 5×5\n",
    "d) A constant values array filled with the value 7\n",
    "e) A random integer array of size (3×4), with values between 10 and 99\n",
    "2. Use np.arange() to generate an array from 5 to 50 with a step size of 5. Then reshape it into (3×3)"
   ]
  },
  {
   "cell_type": "code",
   "execution_count": 1,
   "id": "24703293-f9da-4234-957c-ff8276fbe9f7",
   "metadata": {},
   "outputs": [],
   "source": [
    "import numpy as np"
   ]
  },
  {
   "cell_type": "code",
   "execution_count": 8,
   "id": "abc7746c-6599-4996-b39c-2f85c5d3fb34",
   "metadata": {},
   "outputs": [],
   "source": [
    "a=np.zeros((4,4))"
   ]
  },
  {
   "cell_type": "code",
   "execution_count": 9,
   "id": "3ef63175-b7a2-4e1d-b20f-cd7d08464ed1",
   "metadata": {},
   "outputs": [
    {
     "data": {
      "text/plain": [
       "array([[0., 0., 0., 0.],\n",
       "       [0., 0., 0., 0.],\n",
       "       [0., 0., 0., 0.],\n",
       "       [0., 0., 0., 0.]])"
      ]
     },
     "execution_count": 9,
     "metadata": {},
     "output_type": "execute_result"
    }
   ],
   "source": [
    "a"
   ]
  },
  {
   "cell_type": "code",
   "execution_count": 16,
   "id": "e2b7baf7-4f04-455d-afeb-41bfe1d67f45",
   "metadata": {},
   "outputs": [],
   "source": [
    "b=np.ones((3,2))"
   ]
  },
  {
   "cell_type": "code",
   "execution_count": 17,
   "id": "ab880c43-4f8e-45e7-9b87-844fe39f880d",
   "metadata": {},
   "outputs": [
    {
     "data": {
      "text/plain": [
       "array([[1., 1.],\n",
       "       [1., 1.],\n",
       "       [1., 1.]])"
      ]
     },
     "execution_count": 17,
     "metadata": {},
     "output_type": "execute_result"
    }
   ],
   "source": [
    "b"
   ]
  },
  {
   "cell_type": "code",
   "execution_count": 29,
   "id": "721504e2-943b-4c5d-9bb4-e1e65a3112fd",
   "metadata": {},
   "outputs": [
    {
     "data": {
      "text/plain": [
       "array([[1., 0., 0., 0., 0.],\n",
       "       [0., 1., 0., 0., 0.],\n",
       "       [0., 0., 1., 0., 0.],\n",
       "       [0., 0., 0., 1., 0.],\n",
       "       [0., 0., 0., 0., 1.]])"
      ]
     },
     "execution_count": 29,
     "metadata": {},
     "output_type": "execute_result"
    }
   ],
   "source": [
    "np.identity(5)"
   ]
  },
  {
   "cell_type": "code",
   "execution_count": 33,
   "id": "504f79f9-623d-4fd1-b122-1091356f460e",
   "metadata": {},
   "outputs": [
    {
     "data": {
      "text/plain": [
       "array([[7, 7, 7],\n",
       "       [7, 7, 7],\n",
       "       [7, 7, 7]])"
      ]
     },
     "execution_count": 33,
     "metadata": {},
     "output_type": "execute_result"
    }
   ],
   "source": [
    "np.full((3,3),fill_value=7) # constant array"
   ]
  },
  {
   "cell_type": "code",
   "execution_count": 42,
   "id": "ea786bee-8ab2-47e8-88a9-c98ee53caeb2",
   "metadata": {},
   "outputs": [
    {
     "data": {
      "text/plain": [
       "array([[52, 39, 69, 13],\n",
       "       [23, 59, 28, 32],\n",
       "       [80, 67, 84, 48]], dtype=int32)"
      ]
     },
     "execution_count": 42,
     "metadata": {},
     "output_type": "execute_result"
    }
   ],
   "source": [
    "np.random.randint(10,99,size=(3,4))"
   ]
  },
  {
   "cell_type": "code",
   "execution_count": 43,
   "id": "67264120-3ba4-4be7-8ef2-81cece5fdeb7",
   "metadata": {},
   "outputs": [],
   "source": [
    "n=np.arange(5,50,5)"
   ]
  },
  {
   "cell_type": "code",
   "execution_count": 44,
   "id": "0499a2f4-2f1d-4d57-9409-20ddbbb6fa71",
   "metadata": {},
   "outputs": [
    {
     "data": {
      "text/plain": [
       "array([ 5, 10, 15, 20, 25, 30, 35, 40, 45])"
      ]
     },
     "execution_count": 44,
     "metadata": {},
     "output_type": "execute_result"
    }
   ],
   "source": [
    "n"
   ]
  },
  {
   "cell_type": "code",
   "execution_count": 52,
   "id": "00da328e-1409-4dae-b8b9-6868249f9a46",
   "metadata": {},
   "outputs": [],
   "source": [
    "m=n.reshape(-1,1) # it make view of array change in view is equal to chan"
   ]
  },
  {
   "cell_type": "code",
   "execution_count": 53,
   "id": "fa0b622c-45b5-4f0c-a3b7-7bef3e27710b",
   "metadata": {},
   "outputs": [
    {
     "data": {
      "text/plain": [
       "array([[ 5],\n",
       "       [10],\n",
       "       [15],\n",
       "       [20],\n",
       "       [25],\n",
       "       [30],\n",
       "       [35],\n",
       "       [40],\n",
       "       [45]])"
      ]
     },
     "execution_count": 53,
     "metadata": {},
     "output_type": "execute_result"
    }
   ],
   "source": [
    "m\n"
   ]
  },
  {
   "cell_type": "code",
   "execution_count": 54,
   "id": "7448c009-c271-4fe6-8c8a-adb774e6b9da",
   "metadata": {},
   "outputs": [],
   "source": [
    "m[3,0]=100"
   ]
  },
  {
   "cell_type": "code",
   "execution_count": 55,
   "id": "a7647c9c-9de5-42d8-9f00-dc0895c52401",
   "metadata": {},
   "outputs": [
    {
     "data": {
      "text/plain": [
       "array([[  5],\n",
       "       [ 10],\n",
       "       [ 15],\n",
       "       [100],\n",
       "       [ 25],\n",
       "       [ 30],\n",
       "       [ 35],\n",
       "       [ 40],\n",
       "       [ 45]])"
      ]
     },
     "execution_count": 55,
     "metadata": {},
     "output_type": "execute_result"
    }
   ],
   "source": [
    "m"
   ]
  },
  {
   "cell_type": "code",
   "execution_count": 56,
   "id": "1a5d8541-30ba-45be-a038-e767f0784062",
   "metadata": {},
   "outputs": [
    {
     "data": {
      "text/plain": [
       "array([  5,  10,  15, 100,  25,  30,  35,  40,  45])"
      ]
     },
     "execution_count": 56,
     "metadata": {},
     "output_type": "execute_result"
    }
   ],
   "source": [
    "n"
   ]
  },
  {
   "cell_type": "code",
   "execution_count": null,
   "id": "c6fac0a2-5a7f-41dd-acf8-907402c80d96",
   "metadata": {},
   "outputs": [],
   "source": []
  }
 ],
 "metadata": {
  "kernelspec": {
   "display_name": "Python 3 (ipykernel)",
   "language": "python",
   "name": "python3"
  },
  "language_info": {
   "codemirror_mode": {
    "name": "ipython",
    "version": 3
   },
   "file_extension": ".py",
   "mimetype": "text/x-python",
   "name": "python",
   "nbconvert_exporter": "python",
   "pygments_lexer": "ipython3",
   "version": "3.13.5"
  }
 },
 "nbformat": 4,
 "nbformat_minor": 5
}
