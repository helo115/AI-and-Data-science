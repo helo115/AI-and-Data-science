{
 "cells": [
  {
   "cell_type": "markdown",
   "id": "e252b599-e3bd-497e-8453-a2dd577d0fcb",
   "metadata": {},
   "source": [
    "Part 2: Inheritance Practice Tasks\n",
    "Task 1: Single Level – Animal\n",
    " Parent class Animal with method make_sound().\n",
    " Child class Dog overrides make_sound() with \"Bark!\".\n",
    " Show method overriding. \n"
   ]
  },
  {
   "cell_type": "code",
   "execution_count": 2,
   "id": "97c7502f-e378-4a51-aaa9-aa0839e6fcc4",
   "metadata": {},
   "outputs": [],
   "source": [
    "class Animal():\n",
    "    def __init__(self,sound):\n",
    "        self.sound=sound\n",
    "    def make_sound(self):\n",
    "        return f\"Animal can  make sound {self.sound}\""
   ]
  },
  {
   "cell_type": "code",
   "execution_count": 6,
   "id": "c3a60c8a-85ad-4270-b0cc-31186fc50ea6",
   "metadata": {},
   "outputs": [],
   "source": [
    "class Dog(Animal):\n",
    "    def __init__(self,colour,sound):\n",
    "        super().__init__(sound)\n",
    "        self.colour=colour\n",
    "    def make_sound(self):\n",
    "        return f\"Dog can make sound {self.sound}\"\n",
    "        \n",
    "    "
   ]
  },
  {
   "cell_type": "code",
   "execution_count": 3,
   "id": "c83f2c99-77cc-45cb-adae-c1b9f88f4d7c",
   "metadata": {},
   "outputs": [],
   "source": [
    "c=Animal(\"meow\")"
   ]
  },
  {
   "cell_type": "code",
   "execution_count": 4,
   "id": "62c17f8f-3b7b-4440-8a95-e7c6c1b194b8",
   "metadata": {},
   "outputs": [
    {
     "data": {
      "text/plain": [
       "'Animal can  make sound meow'"
      ]
     },
     "execution_count": 4,
     "metadata": {},
     "output_type": "execute_result"
    }
   ],
   "source": [
    "c.make_sound()\n"
   ]
  },
  {
   "cell_type": "code",
   "execution_count": 7,
   "id": "b6bcbbad-44c7-413d-9003-67923c1840ea",
   "metadata": {},
   "outputs": [],
   "source": [
    "f=Dog(\"black\",\"Bark\")"
   ]
  },
  {
   "cell_type": "code",
   "execution_count": 9,
   "id": "21b5fa29-86b5-4dd2-94d5-a69fe8dc0b5d",
   "metadata": {},
   "outputs": [
    {
     "data": {
      "text/plain": [
       "'Dog can make sound Bark'"
      ]
     },
     "execution_count": 9,
     "metadata": {},
     "output_type": "execute_result"
    }
   ],
   "source": [
    "f.make_sound()"
   ]
  },
  {
   "cell_type": "code",
   "execution_count": 10,
   "id": "a32b2765-d2a4-4c71-ba3f-ea4fb32fdf25",
   "metadata": {},
   "outputs": [
    {
     "data": {
      "text/plain": [
       "'black'"
      ]
     },
     "execution_count": 10,
     "metadata": {},
     "output_type": "execute_result"
    }
   ],
   "source": [
    "f.colour"
   ]
  },
  {
   "cell_type": "code",
   "execution_count": null,
   "id": "e17a3f89-25b5-410b-a5a9-153dec236cfa",
   "metadata": {},
   "outputs": [],
   "source": []
  }
 ],
 "metadata": {
  "kernelspec": {
   "display_name": "Python 3 (ipykernel)",
   "language": "python",
   "name": "python3"
  },
  "language_info": {
   "codemirror_mode": {
    "name": "ipython",
    "version": 3
   },
   "file_extension": ".py",
   "mimetype": "text/x-python",
   "name": "python",
   "nbconvert_exporter": "python",
   "pygments_lexer": "ipython3",
   "version": "3.13.5"
  }
 },
 "nbformat": 4,
 "nbformat_minor": 5
}
