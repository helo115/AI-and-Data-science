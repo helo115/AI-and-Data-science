{
 "cells": [
  {
   "cell_type": "markdown",
   "id": "367d7966-4632-459a-b3ed-bb5fa1661d1e",
   "metadata": {},
   "source": [
    "Task 4: Multiple Inheritance – Skills\n",
    " Create Father class with method skills() returns \"Scientist\".\n",
    " Create Mother class with method skills() returns \"Freelancer\".\n",
    " Create Child class which inherits both skills() methods of Parents. Create method skills()\n",
    "in Child class which combines skills of both parent classes into \"Scientist and Freelancer\"."
   ]
  },
  {
   "cell_type": "code",
   "execution_count": 5,
   "id": "c6ac136c-3a9b-4700-b520-54ef9b2fcf3c",
   "metadata": {},
   "outputs": [],
   "source": [
    "class Father():\n",
    "    def __init__(self):\n",
    "        self.Fskills=\"Scientist\"\n",
    "    def skills(self):\n",
    "        return f\"{self.Fskills}\"\n",
    "        "
   ]
  },
  {
   "cell_type": "code",
   "execution_count": 24,
   "id": "6204887f-aa7e-4b8e-9ed0-6770cc5d0b60",
   "metadata": {},
   "outputs": [],
   "source": [
    "class Mother():\n",
    "    def __init__(self):\n",
    "        self.Mskills=\"Freelancer\"\n",
    "    def skills(self):\n",
    "        return f\"{self.Mskills}\"\n",
    "        "
   ]
  },
  {
   "cell_type": "code",
   "execution_count": 25,
   "id": "b3c1118e-25d4-47e4-9b90-7e723a5fb8ef",
   "metadata": {},
   "outputs": [],
   "source": [
    "class Child(Father,Mother):\n",
    "    \n",
    "    def skills(self):\n",
    "        return f\"{self.Fskills}and{self.Mskills}\""
   ]
  },
  {
   "cell_type": "code",
   "execution_count": 26,
   "id": "5cfccd7c-fd01-4d26-b98d-4e2405a909da",
   "metadata": {},
   "outputs": [],
   "source": [
    "f=Father()"
   ]
  },
  {
   "cell_type": "code",
   "execution_count": 27,
   "id": "32fab9e5-f359-40b5-97ed-529996934cd2",
   "metadata": {},
   "outputs": [
    {
     "data": {
      "text/plain": [
       "'Scientist'"
      ]
     },
     "execution_count": 27,
     "metadata": {},
     "output_type": "execute_result"
    }
   ],
   "source": [
    "f.Fskills"
   ]
  },
  {
   "cell_type": "code",
   "execution_count": 28,
   "id": "e6f9765a-7d6e-4adf-b38d-c912ad44f1b0",
   "metadata": {},
   "outputs": [
    {
     "data": {
      "text/plain": [
       "'Scientist'"
      ]
     },
     "execution_count": 28,
     "metadata": {},
     "output_type": "execute_result"
    }
   ],
   "source": [
    "f.skills()"
   ]
  },
  {
   "cell_type": "code",
   "execution_count": 29,
   "id": "6879598f-f155-4866-9aeb-e5a21009261b",
   "metadata": {},
   "outputs": [],
   "source": [
    "m=Mother()"
   ]
  },
  {
   "cell_type": "code",
   "execution_count": 30,
   "id": "725234e3-73c4-4839-8ef5-867fc9e7785d",
   "metadata": {},
   "outputs": [
    {
     "data": {
      "text/plain": [
       "'Freelancer'"
      ]
     },
     "execution_count": 30,
     "metadata": {},
     "output_type": "execute_result"
    }
   ],
   "source": [
    "m.Mskills\n"
   ]
  },
  {
   "cell_type": "code",
   "execution_count": 31,
   "id": "07118dfa-76a1-45cb-9cee-2e739079a772",
   "metadata": {},
   "outputs": [
    {
     "data": {
      "text/plain": [
       "'Freelancer'"
      ]
     },
     "execution_count": 31,
     "metadata": {},
     "output_type": "execute_result"
    }
   ],
   "source": [
    "m.skills()"
   ]
  },
  {
   "cell_type": "code",
   "execution_count": 32,
   "id": "460182ff-ca52-412d-b59f-b8c2d4773f15",
   "metadata": {},
   "outputs": [],
   "source": [
    "c=Child()"
   ]
  },
  {
   "cell_type": "code",
   "execution_count": 33,
   "id": "a8cc3481-bb86-4341-96b1-34163ae7eab4",
   "metadata": {},
   "outputs": [
    {
     "data": {
      "text/plain": [
       "'Scientist'"
      ]
     },
     "execution_count": 33,
     "metadata": {},
     "output_type": "execute_result"
    }
   ],
   "source": [
    "c.Fskills"
   ]
  },
  {
   "cell_type": "code",
   "execution_count": 35,
   "id": "ac7ff31f-7e50-447f-a79b-55c5406c5cea",
   "metadata": {},
   "outputs": [
    {
     "ename": "AttributeError",
     "evalue": "'Child' object has no attribute 'Mskills'",
     "output_type": "error",
     "traceback": [
      "\u001b[1;31m---------------------------------------------------------------------------\u001b[0m",
      "\u001b[1;31mAttributeError\u001b[0m                            Traceback (most recent call last)",
      "Cell \u001b[1;32mIn[35], line 1\u001b[0m\n\u001b[1;32m----> 1\u001b[0m c\u001b[38;5;241m.\u001b[39mMskills\n",
      "\u001b[1;31mAttributeError\u001b[0m: 'Child' object has no attribute 'Mskills'"
     ]
    }
   ],
   "source": [
    "c.Mskills"
   ]
  },
  {
   "cell_type": "code",
   "execution_count": 37,
   "id": "d4bc5835-f5a3-40f7-b4e5-033ed3b6a89f",
   "metadata": {},
   "outputs": [
    {
     "ename": "AttributeError",
     "evalue": "'Child' object has no attribute 'Mskills'",
     "output_type": "error",
     "traceback": [
      "\u001b[1;31m---------------------------------------------------------------------------\u001b[0m",
      "\u001b[1;31mAttributeError\u001b[0m                            Traceback (most recent call last)",
      "Cell \u001b[1;32mIn[37], line 1\u001b[0m\n\u001b[1;32m----> 1\u001b[0m c\u001b[38;5;241m.\u001b[39mskills()\n",
      "Cell \u001b[1;32mIn[25], line 3\u001b[0m, in \u001b[0;36mChild.skills\u001b[1;34m(self)\u001b[0m\n\u001b[0;32m      2\u001b[0m \u001b[38;5;28;01mdef\u001b[39;00m\u001b[38;5;250m \u001b[39m\u001b[38;5;21mskills\u001b[39m(\u001b[38;5;28mself\u001b[39m):\n\u001b[1;32m----> 3\u001b[0m     \u001b[38;5;28;01mreturn\u001b[39;00m \u001b[38;5;124mf\u001b[39m\u001b[38;5;124m\"\u001b[39m\u001b[38;5;132;01m{\u001b[39;00m\u001b[38;5;28mself\u001b[39m\u001b[38;5;241m.\u001b[39mFskills\u001b[38;5;132;01m}\u001b[39;00m\u001b[38;5;124mand\u001b[39m\u001b[38;5;132;01m{\u001b[39;00m\u001b[38;5;28mself\u001b[39m\u001b[38;5;241m.\u001b[39mMskills\u001b[38;5;132;01m}\u001b[39;00m\u001b[38;5;124m\"\u001b[39m\n",
      "\u001b[1;31mAttributeError\u001b[0m: 'Child' object has no attribute 'Mskills'"
     ]
    }
   ],
   "source": [
    "c.skills()"
   ]
  },
  {
   "cell_type": "code",
   "execution_count": null,
   "id": "98cd2865-5ac8-4bcb-a5f2-f57243821364",
   "metadata": {},
   "outputs": [],
   "source": []
  }
 ],
 "metadata": {
  "kernelspec": {
   "display_name": "Python 3 (ipykernel)",
   "language": "python",
   "name": "python3"
  },
  "language_info": {
   "codemirror_mode": {
    "name": "ipython",
    "version": 3
   },
   "file_extension": ".py",
   "mimetype": "text/x-python",
   "name": "python",
   "nbconvert_exporter": "python",
   "pygments_lexer": "ipython3",
   "version": "3.13.5"
  }
 },
 "nbformat": 4,
 "nbformat_minor": 5
}
